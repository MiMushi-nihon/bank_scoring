{
 "cells": [
  {
   "cell_type": "markdown",
   "metadata": {},
   "source": [
    "# Исследование надёжности заёмщиков\n",
    "\n",
    "Заказчик — кредитный отдел банка. Нужно разобраться, влияет ли семейное положение и количество детей клиента на факт погашения кредита в срок. Входные данные от банка — статистика о платёжеспособности клиентов.\n",
    "\n",
    "Результаты исследования будут учтены при построении модели **кредитного скоринга** — специальной системы, которая оценивает способность потенциального заёмщика вернуть кредит банку."
   ]
  },
  {
   "cell_type": "markdown",
   "metadata": {},
   "source": [
    "## Шаг 1. Откройте файл с данными и изучите общую информацию"
   ]
  },
  {
   "cell_type": "code",
   "execution_count": 8,
   "metadata": {},
   "outputs": [
    {
     "data": {
      "text/html": [
       "<div>\n",
       "<style scoped>\n",
       "    .dataframe tbody tr th:only-of-type {\n",
       "        vertical-align: middle;\n",
       "    }\n",
       "\n",
       "    .dataframe tbody tr th {\n",
       "        vertical-align: top;\n",
       "    }\n",
       "\n",
       "    .dataframe thead th {\n",
       "        text-align: right;\n",
       "    }\n",
       "</style>\n",
       "<table border=\"1\" class=\"dataframe\">\n",
       "  <thead>\n",
       "    <tr style=\"text-align: right;\">\n",
       "      <th></th>\n",
       "      <th>children</th>\n",
       "      <th>days_employed</th>\n",
       "      <th>dob_years</th>\n",
       "      <th>education</th>\n",
       "      <th>education_id</th>\n",
       "      <th>family_status</th>\n",
       "      <th>family_status_id</th>\n",
       "      <th>gender</th>\n",
       "      <th>income_type</th>\n",
       "      <th>debt</th>\n",
       "      <th>total_income</th>\n",
       "      <th>purpose</th>\n",
       "    </tr>\n",
       "  </thead>\n",
       "  <tbody>\n",
       "    <tr>\n",
       "      <td>0</td>\n",
       "      <td>1</td>\n",
       "      <td>-8437.673028</td>\n",
       "      <td>42</td>\n",
       "      <td>высшее</td>\n",
       "      <td>0</td>\n",
       "      <td>женат / замужем</td>\n",
       "      <td>0</td>\n",
       "      <td>F</td>\n",
       "      <td>сотрудник</td>\n",
       "      <td>0</td>\n",
       "      <td>253875.639453</td>\n",
       "      <td>покупка жилья</td>\n",
       "    </tr>\n",
       "    <tr>\n",
       "      <td>1</td>\n",
       "      <td>1</td>\n",
       "      <td>-4024.803754</td>\n",
       "      <td>36</td>\n",
       "      <td>среднее</td>\n",
       "      <td>1</td>\n",
       "      <td>женат / замужем</td>\n",
       "      <td>0</td>\n",
       "      <td>F</td>\n",
       "      <td>сотрудник</td>\n",
       "      <td>0</td>\n",
       "      <td>112080.014102</td>\n",
       "      <td>приобретение автомобиля</td>\n",
       "    </tr>\n",
       "    <tr>\n",
       "      <td>2</td>\n",
       "      <td>0</td>\n",
       "      <td>-5623.422610</td>\n",
       "      <td>33</td>\n",
       "      <td>Среднее</td>\n",
       "      <td>1</td>\n",
       "      <td>женат / замужем</td>\n",
       "      <td>0</td>\n",
       "      <td>M</td>\n",
       "      <td>сотрудник</td>\n",
       "      <td>0</td>\n",
       "      <td>145885.952297</td>\n",
       "      <td>покупка жилья</td>\n",
       "    </tr>\n",
       "    <tr>\n",
       "      <td>3</td>\n",
       "      <td>3</td>\n",
       "      <td>-4124.747207</td>\n",
       "      <td>32</td>\n",
       "      <td>среднее</td>\n",
       "      <td>1</td>\n",
       "      <td>женат / замужем</td>\n",
       "      <td>0</td>\n",
       "      <td>M</td>\n",
       "      <td>сотрудник</td>\n",
       "      <td>0</td>\n",
       "      <td>267628.550329</td>\n",
       "      <td>дополнительное образование</td>\n",
       "    </tr>\n",
       "    <tr>\n",
       "      <td>4</td>\n",
       "      <td>0</td>\n",
       "      <td>340266.072047</td>\n",
       "      <td>53</td>\n",
       "      <td>среднее</td>\n",
       "      <td>1</td>\n",
       "      <td>гражданский брак</td>\n",
       "      <td>1</td>\n",
       "      <td>F</td>\n",
       "      <td>пенсионер</td>\n",
       "      <td>0</td>\n",
       "      <td>158616.077870</td>\n",
       "      <td>сыграть свадьбу</td>\n",
       "    </tr>\n",
       "    <tr>\n",
       "      <td>5</td>\n",
       "      <td>0</td>\n",
       "      <td>-926.185831</td>\n",
       "      <td>27</td>\n",
       "      <td>высшее</td>\n",
       "      <td>0</td>\n",
       "      <td>гражданский брак</td>\n",
       "      <td>1</td>\n",
       "      <td>M</td>\n",
       "      <td>компаньон</td>\n",
       "      <td>0</td>\n",
       "      <td>255763.565419</td>\n",
       "      <td>покупка жилья</td>\n",
       "    </tr>\n",
       "    <tr>\n",
       "      <td>6</td>\n",
       "      <td>0</td>\n",
       "      <td>-2879.202052</td>\n",
       "      <td>43</td>\n",
       "      <td>высшее</td>\n",
       "      <td>0</td>\n",
       "      <td>женат / замужем</td>\n",
       "      <td>0</td>\n",
       "      <td>F</td>\n",
       "      <td>компаньон</td>\n",
       "      <td>0</td>\n",
       "      <td>240525.971920</td>\n",
       "      <td>операции с жильем</td>\n",
       "    </tr>\n",
       "    <tr>\n",
       "      <td>7</td>\n",
       "      <td>0</td>\n",
       "      <td>-152.779569</td>\n",
       "      <td>50</td>\n",
       "      <td>СРЕДНЕЕ</td>\n",
       "      <td>1</td>\n",
       "      <td>женат / замужем</td>\n",
       "      <td>0</td>\n",
       "      <td>M</td>\n",
       "      <td>сотрудник</td>\n",
       "      <td>0</td>\n",
       "      <td>135823.934197</td>\n",
       "      <td>образование</td>\n",
       "    </tr>\n",
       "    <tr>\n",
       "      <td>8</td>\n",
       "      <td>2</td>\n",
       "      <td>-6929.865299</td>\n",
       "      <td>35</td>\n",
       "      <td>ВЫСШЕЕ</td>\n",
       "      <td>0</td>\n",
       "      <td>гражданский брак</td>\n",
       "      <td>1</td>\n",
       "      <td>F</td>\n",
       "      <td>сотрудник</td>\n",
       "      <td>0</td>\n",
       "      <td>95856.832424</td>\n",
       "      <td>на проведение свадьбы</td>\n",
       "    </tr>\n",
       "    <tr>\n",
       "      <td>9</td>\n",
       "      <td>0</td>\n",
       "      <td>-2188.756445</td>\n",
       "      <td>41</td>\n",
       "      <td>среднее</td>\n",
       "      <td>1</td>\n",
       "      <td>женат / замужем</td>\n",
       "      <td>0</td>\n",
       "      <td>M</td>\n",
       "      <td>сотрудник</td>\n",
       "      <td>0</td>\n",
       "      <td>144425.938277</td>\n",
       "      <td>покупка жилья для семьи</td>\n",
       "    </tr>\n",
       "    <tr>\n",
       "      <td>10</td>\n",
       "      <td>2</td>\n",
       "      <td>-4171.483647</td>\n",
       "      <td>36</td>\n",
       "      <td>высшее</td>\n",
       "      <td>0</td>\n",
       "      <td>женат / замужем</td>\n",
       "      <td>0</td>\n",
       "      <td>M</td>\n",
       "      <td>компаньон</td>\n",
       "      <td>0</td>\n",
       "      <td>113943.491460</td>\n",
       "      <td>покупка недвижимости</td>\n",
       "    </tr>\n",
       "    <tr>\n",
       "      <td>11</td>\n",
       "      <td>0</td>\n",
       "      <td>-792.701887</td>\n",
       "      <td>40</td>\n",
       "      <td>среднее</td>\n",
       "      <td>1</td>\n",
       "      <td>женат / замужем</td>\n",
       "      <td>0</td>\n",
       "      <td>F</td>\n",
       "      <td>сотрудник</td>\n",
       "      <td>0</td>\n",
       "      <td>77069.234271</td>\n",
       "      <td>покупка коммерческой недвижимости</td>\n",
       "    </tr>\n",
       "    <tr>\n",
       "      <td>12</td>\n",
       "      <td>0</td>\n",
       "      <td>NaN</td>\n",
       "      <td>65</td>\n",
       "      <td>среднее</td>\n",
       "      <td>1</td>\n",
       "      <td>гражданский брак</td>\n",
       "      <td>1</td>\n",
       "      <td>M</td>\n",
       "      <td>пенсионер</td>\n",
       "      <td>0</td>\n",
       "      <td>NaN</td>\n",
       "      <td>сыграть свадьбу</td>\n",
       "    </tr>\n",
       "    <tr>\n",
       "      <td>13</td>\n",
       "      <td>0</td>\n",
       "      <td>-1846.641941</td>\n",
       "      <td>54</td>\n",
       "      <td>неоконченное высшее</td>\n",
       "      <td>2</td>\n",
       "      <td>женат / замужем</td>\n",
       "      <td>0</td>\n",
       "      <td>F</td>\n",
       "      <td>сотрудник</td>\n",
       "      <td>0</td>\n",
       "      <td>130458.228857</td>\n",
       "      <td>приобретение автомобиля</td>\n",
       "    </tr>\n",
       "    <tr>\n",
       "      <td>14</td>\n",
       "      <td>0</td>\n",
       "      <td>-1844.956182</td>\n",
       "      <td>56</td>\n",
       "      <td>высшее</td>\n",
       "      <td>0</td>\n",
       "      <td>гражданский брак</td>\n",
       "      <td>1</td>\n",
       "      <td>F</td>\n",
       "      <td>компаньон</td>\n",
       "      <td>1</td>\n",
       "      <td>165127.911772</td>\n",
       "      <td>покупка жилой недвижимости</td>\n",
       "    </tr>\n",
       "  </tbody>\n",
       "</table>\n",
       "</div>"
      ],
      "text/plain": [
       "    children  days_employed  dob_years            education  education_id  \\\n",
       "0          1   -8437.673028         42               высшее             0   \n",
       "1          1   -4024.803754         36              среднее             1   \n",
       "2          0   -5623.422610         33              Среднее             1   \n",
       "3          3   -4124.747207         32              среднее             1   \n",
       "4          0  340266.072047         53              среднее             1   \n",
       "5          0    -926.185831         27               высшее             0   \n",
       "6          0   -2879.202052         43               высшее             0   \n",
       "7          0    -152.779569         50              СРЕДНЕЕ             1   \n",
       "8          2   -6929.865299         35               ВЫСШЕЕ             0   \n",
       "9          0   -2188.756445         41              среднее             1   \n",
       "10         2   -4171.483647         36               высшее             0   \n",
       "11         0    -792.701887         40              среднее             1   \n",
       "12         0            NaN         65              среднее             1   \n",
       "13         0   -1846.641941         54  неоконченное высшее             2   \n",
       "14         0   -1844.956182         56               высшее             0   \n",
       "\n",
       "       family_status  family_status_id gender income_type  debt  \\\n",
       "0    женат / замужем                 0      F   сотрудник     0   \n",
       "1    женат / замужем                 0      F   сотрудник     0   \n",
       "2    женат / замужем                 0      M   сотрудник     0   \n",
       "3    женат / замужем                 0      M   сотрудник     0   \n",
       "4   гражданский брак                 1      F   пенсионер     0   \n",
       "5   гражданский брак                 1      M   компаньон     0   \n",
       "6    женат / замужем                 0      F   компаньон     0   \n",
       "7    женат / замужем                 0      M   сотрудник     0   \n",
       "8   гражданский брак                 1      F   сотрудник     0   \n",
       "9    женат / замужем                 0      M   сотрудник     0   \n",
       "10   женат / замужем                 0      M   компаньон     0   \n",
       "11   женат / замужем                 0      F   сотрудник     0   \n",
       "12  гражданский брак                 1      M   пенсионер     0   \n",
       "13   женат / замужем                 0      F   сотрудник     0   \n",
       "14  гражданский брак                 1      F   компаньон     1   \n",
       "\n",
       "     total_income                            purpose  \n",
       "0   253875.639453                      покупка жилья  \n",
       "1   112080.014102            приобретение автомобиля  \n",
       "2   145885.952297                      покупка жилья  \n",
       "3   267628.550329         дополнительное образование  \n",
       "4   158616.077870                    сыграть свадьбу  \n",
       "5   255763.565419                      покупка жилья  \n",
       "6   240525.971920                  операции с жильем  \n",
       "7   135823.934197                        образование  \n",
       "8    95856.832424              на проведение свадьбы  \n",
       "9   144425.938277            покупка жилья для семьи  \n",
       "10  113943.491460               покупка недвижимости  \n",
       "11   77069.234271  покупка коммерческой недвижимости  \n",
       "12            NaN                    сыграть свадьбу  \n",
       "13  130458.228857            приобретение автомобиля  \n",
       "14  165127.911772         покупка жилой недвижимости  "
      ]
     },
     "metadata": {},
     "output_type": "display_data"
    },
    {
     "name": "stdout",
     "output_type": "stream",
     "text": [
      "<class 'pandas.core.frame.DataFrame'>\n",
      "RangeIndex: 21525 entries, 0 to 21524\n",
      "Data columns (total 12 columns):\n",
      "children            21525 non-null int64\n",
      "days_employed       19351 non-null float64\n",
      "dob_years           21525 non-null int64\n",
      "education           21525 non-null object\n",
      "education_id        21525 non-null int64\n",
      "family_status       21525 non-null object\n",
      "family_status_id    21525 non-null int64\n",
      "gender              21525 non-null object\n",
      "income_type         21525 non-null object\n",
      "debt                21525 non-null int64\n",
      "total_income        19351 non-null float64\n",
      "purpose             21525 non-null object\n",
      "dtypes: float64(2), int64(5), object(5)\n",
      "memory usage: 2.0+ MB\n"
     ]
    },
    {
     "data": {
      "text/html": [
       "<div>\n",
       "<style scoped>\n",
       "    .dataframe tbody tr th:only-of-type {\n",
       "        vertical-align: middle;\n",
       "    }\n",
       "\n",
       "    .dataframe tbody tr th {\n",
       "        vertical-align: top;\n",
       "    }\n",
       "\n",
       "    .dataframe thead th {\n",
       "        text-align: right;\n",
       "    }\n",
       "</style>\n",
       "<table border=\"1\" class=\"dataframe\">\n",
       "  <thead>\n",
       "    <tr style=\"text-align: right;\">\n",
       "      <th></th>\n",
       "      <th>children</th>\n",
       "      <th>days_employed</th>\n",
       "      <th>dob_years</th>\n",
       "      <th>education_id</th>\n",
       "      <th>family_status_id</th>\n",
       "      <th>debt</th>\n",
       "      <th>total_income</th>\n",
       "    </tr>\n",
       "  </thead>\n",
       "  <tbody>\n",
       "    <tr>\n",
       "      <td>count</td>\n",
       "      <td>21525.000000</td>\n",
       "      <td>19351.000000</td>\n",
       "      <td>21525.000000</td>\n",
       "      <td>21525.000000</td>\n",
       "      <td>21525.000000</td>\n",
       "      <td>21525.000000</td>\n",
       "      <td>1.935100e+04</td>\n",
       "    </tr>\n",
       "    <tr>\n",
       "      <td>mean</td>\n",
       "      <td>0.538908</td>\n",
       "      <td>63046.497661</td>\n",
       "      <td>43.293380</td>\n",
       "      <td>0.817236</td>\n",
       "      <td>0.972544</td>\n",
       "      <td>0.080883</td>\n",
       "      <td>1.674223e+05</td>\n",
       "    </tr>\n",
       "    <tr>\n",
       "      <td>std</td>\n",
       "      <td>1.381587</td>\n",
       "      <td>140827.311974</td>\n",
       "      <td>12.574584</td>\n",
       "      <td>0.548138</td>\n",
       "      <td>1.420324</td>\n",
       "      <td>0.272661</td>\n",
       "      <td>1.029716e+05</td>\n",
       "    </tr>\n",
       "    <tr>\n",
       "      <td>min</td>\n",
       "      <td>-1.000000</td>\n",
       "      <td>-18388.949901</td>\n",
       "      <td>0.000000</td>\n",
       "      <td>0.000000</td>\n",
       "      <td>0.000000</td>\n",
       "      <td>0.000000</td>\n",
       "      <td>2.066726e+04</td>\n",
       "    </tr>\n",
       "    <tr>\n",
       "      <td>25%</td>\n",
       "      <td>0.000000</td>\n",
       "      <td>-2747.423625</td>\n",
       "      <td>33.000000</td>\n",
       "      <td>1.000000</td>\n",
       "      <td>0.000000</td>\n",
       "      <td>0.000000</td>\n",
       "      <td>1.030532e+05</td>\n",
       "    </tr>\n",
       "    <tr>\n",
       "      <td>50%</td>\n",
       "      <td>0.000000</td>\n",
       "      <td>-1203.369529</td>\n",
       "      <td>42.000000</td>\n",
       "      <td>1.000000</td>\n",
       "      <td>0.000000</td>\n",
       "      <td>0.000000</td>\n",
       "      <td>1.450179e+05</td>\n",
       "    </tr>\n",
       "    <tr>\n",
       "      <td>75%</td>\n",
       "      <td>1.000000</td>\n",
       "      <td>-291.095954</td>\n",
       "      <td>53.000000</td>\n",
       "      <td>1.000000</td>\n",
       "      <td>1.000000</td>\n",
       "      <td>0.000000</td>\n",
       "      <td>2.034351e+05</td>\n",
       "    </tr>\n",
       "    <tr>\n",
       "      <td>max</td>\n",
       "      <td>20.000000</td>\n",
       "      <td>401755.400475</td>\n",
       "      <td>75.000000</td>\n",
       "      <td>4.000000</td>\n",
       "      <td>4.000000</td>\n",
       "      <td>1.000000</td>\n",
       "      <td>2.265604e+06</td>\n",
       "    </tr>\n",
       "  </tbody>\n",
       "</table>\n",
       "</div>"
      ],
      "text/plain": [
       "           children  days_employed     dob_years  education_id  \\\n",
       "count  21525.000000   19351.000000  21525.000000  21525.000000   \n",
       "mean       0.538908   63046.497661     43.293380      0.817236   \n",
       "std        1.381587  140827.311974     12.574584      0.548138   \n",
       "min       -1.000000  -18388.949901      0.000000      0.000000   \n",
       "25%        0.000000   -2747.423625     33.000000      1.000000   \n",
       "50%        0.000000   -1203.369529     42.000000      1.000000   \n",
       "75%        1.000000    -291.095954     53.000000      1.000000   \n",
       "max       20.000000  401755.400475     75.000000      4.000000   \n",
       "\n",
       "       family_status_id          debt  total_income  \n",
       "count      21525.000000  21525.000000  1.935100e+04  \n",
       "mean           0.972544      0.080883  1.674223e+05  \n",
       "std            1.420324      0.272661  1.029716e+05  \n",
       "min            0.000000      0.000000  2.066726e+04  \n",
       "25%            0.000000      0.000000  1.030532e+05  \n",
       "50%            0.000000      0.000000  1.450179e+05  \n",
       "75%            1.000000      0.000000  2.034351e+05  \n",
       "max            4.000000      1.000000  2.265604e+06  "
      ]
     },
     "execution_count": 8,
     "metadata": {},
     "output_type": "execute_result"
    }
   ],
   "source": [
    "#подключим необходимую библитеку\n",
    "import pandas as pd\n",
    "from pymystem3 import Mystem\n",
    "from collections import Counter\n",
    "#создадим переменную, в которой будем хранить набор данных\n",
    "data = pd.read_csv('/datasets/data.csv')\n",
    "#отобразим набор данных, для изучения (первых 15 строк)\n",
    "display(data.head(15))\n",
    "data.info()\n",
    "data.describe()"
   ]
  },
  {
   "cell_type": "markdown",
   "metadata": {},
   "source": [
    "**Вывод**"
   ]
  },
  {
   "cell_type": "markdown",
   "metadata": {},
   "source": [
    " В наборе данных отсутствуют некоторые значения в столбцах : *days_employed* (общий трудовой стаж) , *total_income*(ежемесячный доход),вместо значений указано значение **Nan**.Ещё в данных замечен артефакт,общий трудовой стаж(*days_employed*) указан отрицательным(может так и должно быть?)."
   ]
  },
  {
   "cell_type": "markdown",
   "metadata": {},
   "source": [
    "## Шаг 2. Предобработка данных"
   ]
  },
  {
   "cell_type": "markdown",
   "metadata": {},
   "source": [
    "### Обработка пропусков"
   ]
  },
  {
   "cell_type": "code",
   "execution_count": 9,
   "metadata": {},
   "outputs": [
    {
     "name": "stdout",
     "output_type": "stream",
     "text": [
      "в ячейке * days_employed * - 2174 пропуска\n",
      "в ячейке * total_income * - 2174 пропуска\n",
      "\n",
      "children               0\n",
      "days_employed       2174\n",
      "dob_years              0\n",
      "education              0\n",
      "education_id           0\n",
      "family_status          0\n",
      "family_status_id       0\n",
      "gender                 0\n",
      "income_type            0\n",
      "debt                   0\n",
      "total_income        2174\n",
      "purpose                0\n",
      "dtype: int64\n",
      "\n",
      "10.099883855981417\n",
      "\n",
      "Пропуски после замены : 0\n",
      "\n",
      "Пропуски после замены : 0\n"
     ]
    },
    {
     "data": {
      "text/html": [
       "<div>\n",
       "<style scoped>\n",
       "    .dataframe tbody tr th:only-of-type {\n",
       "        vertical-align: middle;\n",
       "    }\n",
       "\n",
       "    .dataframe tbody tr th {\n",
       "        vertical-align: top;\n",
       "    }\n",
       "\n",
       "    .dataframe thead th {\n",
       "        text-align: right;\n",
       "    }\n",
       "</style>\n",
       "<table border=\"1\" class=\"dataframe\">\n",
       "  <thead>\n",
       "    <tr style=\"text-align: right;\">\n",
       "      <th></th>\n",
       "      <th>children</th>\n",
       "      <th>days_employed</th>\n",
       "      <th>dob_years</th>\n",
       "      <th>education</th>\n",
       "      <th>education_id</th>\n",
       "      <th>family_status</th>\n",
       "      <th>family_status_id</th>\n",
       "      <th>gender</th>\n",
       "      <th>income_type</th>\n",
       "      <th>debt</th>\n",
       "      <th>total_income</th>\n",
       "      <th>purpose</th>\n",
       "    </tr>\n",
       "  </thead>\n",
       "  <tbody>\n",
       "    <tr>\n",
       "      <td>0</td>\n",
       "      <td>1</td>\n",
       "      <td>8437.673028</td>\n",
       "      <td>42</td>\n",
       "      <td>высшее</td>\n",
       "      <td>0</td>\n",
       "      <td>женат / замужем</td>\n",
       "      <td>0</td>\n",
       "      <td>F</td>\n",
       "      <td>сотрудник</td>\n",
       "      <td>0</td>\n",
       "      <td>253875.639453</td>\n",
       "      <td>покупка жилья</td>\n",
       "    </tr>\n",
       "    <tr>\n",
       "      <td>1</td>\n",
       "      <td>1</td>\n",
       "      <td>4024.803754</td>\n",
       "      <td>36</td>\n",
       "      <td>среднее</td>\n",
       "      <td>1</td>\n",
       "      <td>женат / замужем</td>\n",
       "      <td>0</td>\n",
       "      <td>F</td>\n",
       "      <td>сотрудник</td>\n",
       "      <td>0</td>\n",
       "      <td>112080.014102</td>\n",
       "      <td>приобретение автомобиля</td>\n",
       "    </tr>\n",
       "    <tr>\n",
       "      <td>2</td>\n",
       "      <td>0</td>\n",
       "      <td>5623.422610</td>\n",
       "      <td>33</td>\n",
       "      <td>Среднее</td>\n",
       "      <td>1</td>\n",
       "      <td>женат / замужем</td>\n",
       "      <td>0</td>\n",
       "      <td>M</td>\n",
       "      <td>сотрудник</td>\n",
       "      <td>0</td>\n",
       "      <td>145885.952297</td>\n",
       "      <td>покупка жилья</td>\n",
       "    </tr>\n",
       "    <tr>\n",
       "      <td>3</td>\n",
       "      <td>3</td>\n",
       "      <td>4124.747207</td>\n",
       "      <td>32</td>\n",
       "      <td>среднее</td>\n",
       "      <td>1</td>\n",
       "      <td>женат / замужем</td>\n",
       "      <td>0</td>\n",
       "      <td>M</td>\n",
       "      <td>сотрудник</td>\n",
       "      <td>0</td>\n",
       "      <td>267628.550329</td>\n",
       "      <td>дополнительное образование</td>\n",
       "    </tr>\n",
       "    <tr>\n",
       "      <td>4</td>\n",
       "      <td>0</td>\n",
       "      <td>14177.753002</td>\n",
       "      <td>53</td>\n",
       "      <td>среднее</td>\n",
       "      <td>1</td>\n",
       "      <td>гражданский брак</td>\n",
       "      <td>1</td>\n",
       "      <td>F</td>\n",
       "      <td>пенсионер</td>\n",
       "      <td>0</td>\n",
       "      <td>158616.077870</td>\n",
       "      <td>сыграть свадьбу</td>\n",
       "    </tr>\n",
       "    <tr>\n",
       "      <td>5</td>\n",
       "      <td>0</td>\n",
       "      <td>926.185831</td>\n",
       "      <td>27</td>\n",
       "      <td>высшее</td>\n",
       "      <td>0</td>\n",
       "      <td>гражданский брак</td>\n",
       "      <td>1</td>\n",
       "      <td>M</td>\n",
       "      <td>компаньон</td>\n",
       "      <td>0</td>\n",
       "      <td>255763.565419</td>\n",
       "      <td>покупка жилья</td>\n",
       "    </tr>\n",
       "    <tr>\n",
       "      <td>6</td>\n",
       "      <td>0</td>\n",
       "      <td>2879.202052</td>\n",
       "      <td>43</td>\n",
       "      <td>высшее</td>\n",
       "      <td>0</td>\n",
       "      <td>женат / замужем</td>\n",
       "      <td>0</td>\n",
       "      <td>F</td>\n",
       "      <td>компаньон</td>\n",
       "      <td>0</td>\n",
       "      <td>240525.971920</td>\n",
       "      <td>операции с жильем</td>\n",
       "    </tr>\n",
       "    <tr>\n",
       "      <td>7</td>\n",
       "      <td>0</td>\n",
       "      <td>152.779569</td>\n",
       "      <td>50</td>\n",
       "      <td>СРЕДНЕЕ</td>\n",
       "      <td>1</td>\n",
       "      <td>женат / замужем</td>\n",
       "      <td>0</td>\n",
       "      <td>M</td>\n",
       "      <td>сотрудник</td>\n",
       "      <td>0</td>\n",
       "      <td>135823.934197</td>\n",
       "      <td>образование</td>\n",
       "    </tr>\n",
       "    <tr>\n",
       "      <td>8</td>\n",
       "      <td>2</td>\n",
       "      <td>6929.865299</td>\n",
       "      <td>35</td>\n",
       "      <td>ВЫСШЕЕ</td>\n",
       "      <td>0</td>\n",
       "      <td>гражданский брак</td>\n",
       "      <td>1</td>\n",
       "      <td>F</td>\n",
       "      <td>сотрудник</td>\n",
       "      <td>0</td>\n",
       "      <td>95856.832424</td>\n",
       "      <td>на проведение свадьбы</td>\n",
       "    </tr>\n",
       "    <tr>\n",
       "      <td>9</td>\n",
       "      <td>0</td>\n",
       "      <td>2188.756445</td>\n",
       "      <td>41</td>\n",
       "      <td>среднее</td>\n",
       "      <td>1</td>\n",
       "      <td>женат / замужем</td>\n",
       "      <td>0</td>\n",
       "      <td>M</td>\n",
       "      <td>сотрудник</td>\n",
       "      <td>0</td>\n",
       "      <td>144425.938277</td>\n",
       "      <td>покупка жилья для семьи</td>\n",
       "    </tr>\n",
       "    <tr>\n",
       "      <td>10</td>\n",
       "      <td>2</td>\n",
       "      <td>4171.483647</td>\n",
       "      <td>36</td>\n",
       "      <td>высшее</td>\n",
       "      <td>0</td>\n",
       "      <td>женат / замужем</td>\n",
       "      <td>0</td>\n",
       "      <td>M</td>\n",
       "      <td>компаньон</td>\n",
       "      <td>0</td>\n",
       "      <td>113943.491460</td>\n",
       "      <td>покупка недвижимости</td>\n",
       "    </tr>\n",
       "    <tr>\n",
       "      <td>11</td>\n",
       "      <td>0</td>\n",
       "      <td>792.701887</td>\n",
       "      <td>40</td>\n",
       "      <td>среднее</td>\n",
       "      <td>1</td>\n",
       "      <td>женат / замужем</td>\n",
       "      <td>0</td>\n",
       "      <td>F</td>\n",
       "      <td>сотрудник</td>\n",
       "      <td>0</td>\n",
       "      <td>77069.234271</td>\n",
       "      <td>покупка коммерческой недвижимости</td>\n",
       "    </tr>\n",
       "    <tr>\n",
       "      <td>12</td>\n",
       "      <td>0</td>\n",
       "      <td>2194.220567</td>\n",
       "      <td>65</td>\n",
       "      <td>среднее</td>\n",
       "      <td>1</td>\n",
       "      <td>гражданский брак</td>\n",
       "      <td>1</td>\n",
       "      <td>M</td>\n",
       "      <td>пенсионер</td>\n",
       "      <td>0</td>\n",
       "      <td>145017.937533</td>\n",
       "      <td>сыграть свадьбу</td>\n",
       "    </tr>\n",
       "    <tr>\n",
       "      <td>13</td>\n",
       "      <td>0</td>\n",
       "      <td>1846.641941</td>\n",
       "      <td>54</td>\n",
       "      <td>неоконченное высшее</td>\n",
       "      <td>2</td>\n",
       "      <td>женат / замужем</td>\n",
       "      <td>0</td>\n",
       "      <td>F</td>\n",
       "      <td>сотрудник</td>\n",
       "      <td>0</td>\n",
       "      <td>130458.228857</td>\n",
       "      <td>приобретение автомобиля</td>\n",
       "    </tr>\n",
       "    <tr>\n",
       "      <td>14</td>\n",
       "      <td>0</td>\n",
       "      <td>1844.956182</td>\n",
       "      <td>56</td>\n",
       "      <td>высшее</td>\n",
       "      <td>0</td>\n",
       "      <td>гражданский брак</td>\n",
       "      <td>1</td>\n",
       "      <td>F</td>\n",
       "      <td>компаньон</td>\n",
       "      <td>1</td>\n",
       "      <td>165127.911772</td>\n",
       "      <td>покупка жилой недвижимости</td>\n",
       "    </tr>\n",
       "  </tbody>\n",
       "</table>\n",
       "</div>"
      ],
      "text/plain": [
       "    children  days_employed  dob_years            education  education_id  \\\n",
       "0          1    8437.673028         42               высшее             0   \n",
       "1          1    4024.803754         36              среднее             1   \n",
       "2          0    5623.422610         33              Среднее             1   \n",
       "3          3    4124.747207         32              среднее             1   \n",
       "4          0   14177.753002         53              среднее             1   \n",
       "5          0     926.185831         27               высшее             0   \n",
       "6          0    2879.202052         43               высшее             0   \n",
       "7          0     152.779569         50              СРЕДНЕЕ             1   \n",
       "8          2    6929.865299         35               ВЫСШЕЕ             0   \n",
       "9          0    2188.756445         41              среднее             1   \n",
       "10         2    4171.483647         36               высшее             0   \n",
       "11         0     792.701887         40              среднее             1   \n",
       "12         0    2194.220567         65              среднее             1   \n",
       "13         0    1846.641941         54  неоконченное высшее             2   \n",
       "14         0    1844.956182         56               высшее             0   \n",
       "\n",
       "       family_status  family_status_id gender income_type  debt  \\\n",
       "0    женат / замужем                 0      F   сотрудник     0   \n",
       "1    женат / замужем                 0      F   сотрудник     0   \n",
       "2    женат / замужем                 0      M   сотрудник     0   \n",
       "3    женат / замужем                 0      M   сотрудник     0   \n",
       "4   гражданский брак                 1      F   пенсионер     0   \n",
       "5   гражданский брак                 1      M   компаньон     0   \n",
       "6    женат / замужем                 0      F   компаньон     0   \n",
       "7    женат / замужем                 0      M   сотрудник     0   \n",
       "8   гражданский брак                 1      F   сотрудник     0   \n",
       "9    женат / замужем                 0      M   сотрудник     0   \n",
       "10   женат / замужем                 0      M   компаньон     0   \n",
       "11   женат / замужем                 0      F   сотрудник     0   \n",
       "12  гражданский брак                 1      M   пенсионер     0   \n",
       "13   женат / замужем                 0      F   сотрудник     0   \n",
       "14  гражданский брак                 1      F   компаньон     1   \n",
       "\n",
       "     total_income                            purpose  \n",
       "0   253875.639453                      покупка жилья  \n",
       "1   112080.014102            приобретение автомобиля  \n",
       "2   145885.952297                      покупка жилья  \n",
       "3   267628.550329         дополнительное образование  \n",
       "4   158616.077870                    сыграть свадьбу  \n",
       "5   255763.565419                      покупка жилья  \n",
       "6   240525.971920                  операции с жильем  \n",
       "7   135823.934197                        образование  \n",
       "8    95856.832424              на проведение свадьбы  \n",
       "9   144425.938277            покупка жилья для семьи  \n",
       "10  113943.491460               покупка недвижимости  \n",
       "11   77069.234271  покупка коммерческой недвижимости  \n",
       "12  145017.937533                    сыграть свадьбу  \n",
       "13  130458.228857            приобретение автомобиля  \n",
       "14  165127.911772         покупка жилой недвижимости  "
      ]
     },
     "metadata": {},
     "output_type": "display_data"
    }
   ],
   "source": [
    "#Подсчитаем сколько раз было  пропущено значение общего трудового стажа(days_employed) \n",
    "print('в ячейке','*','days_employed','*','-',len(data[data['days_employed'].isna()]),'пропуска')\n",
    "#Подсчитаем количество пропусков значений в столбце *total_income*\n",
    "print('в ячейке','*','total_income','*','-',len(data[data['total_income'].isna()]),'пропуска')\n",
    "print()\n",
    "#Убедимся в отсутствии любых других пропусков в наборе данных\n",
    "print(data.isna().sum())\n",
    "print()\n",
    "#подсчитаем количество % пропусков от общего числа данных, чтобы сделать дальнейшие выводы\n",
    "print((len(data[data['total_income'].isna()]) /21525) *100 )\n",
    "#Поскольку пренебрегать таким количеством пропусков нельзя, заменим пропуски медианным значением\n",
    "data['days_employed'] = data['days_employed'].abs()\n",
    "#data.loc[data['days_employed'].isna(),'days_employed'] = data['days_employed'].median()\n",
    "data.loc[data['days_employed'] > 300000 , 'days_employed'] = data.loc[data['days_employed'] > 300000, 'days_employed'] / 24 \n",
    "data.loc[data['days_employed'].isna(),'days_employed'] = data['days_employed'].median()\n",
    "\n",
    "data['total_income'] = data['total_income'].abs()\n",
    "data.loc[data['total_income'].isna(),'total_income'] = data['total_income'].median()\n",
    "print()\n",
    "#Выполним проверку по замене данных и распечатаем первые 15 значений\n",
    "print('Пропуски после замены :',data['days_employed'].isna().sum())\n",
    "print()\n",
    "print('Пропуски после замены :',data['total_income'].isna().sum())\n",
    "display(data.head(15))"
   ]
  },
  {
   "cell_type": "markdown",
   "metadata": {},
   "source": [
    "**Вывод**"
   ]
  },
  {
   "cell_type": "markdown",
   "metadata": {},
   "source": [
    " Проанализировав полученные данные , можно сделать вывод, что явные пропуски присутствуют всего в двух столбцах( *общей трудовой стаж,ежемесячный доход* и имеют значение Nan(т.е вещественные числа, поэтому был выбран данный метод для поиска пропуска значений) и составляют чуть более **10** % от всего объема данных, соотвественно пренебрегать этими пропусками **нежелательно!!!**.Поэтому необходимо было произвести замену значений , чтобы было можно продолжить работу с данными.Так же были замечены и ошибки связанные с человеческим фактором(ошибка при наборе данных) и ошибки связанные с неоднотипным значением(то есть трудовой стаж измеряется не только в днях, но и часах наверное)"
   ]
  },
  {
   "cell_type": "code",
   "execution_count": 10,
   "metadata": {},
   "outputs": [
    {
     "name": "stdout",
     "output_type": "stream",
     "text": [
      "gender\n",
      "F      14236\n",
      "M       7288\n",
      "XNA        1\n",
      "Name: gender, dtype: int64\n",
      "\n",
      "[42 36 33 32 53 27 43 50 35 41 40 65 54 56 26 48 24 21 57 67 28 63 62 47\n",
      " 34 68 25 31 30 20 49 37 45 61 64 44 52 46 23 38 39 51  0 59 29 60 55 58\n",
      " 71 22 73 66 69 19 72 70 74 75]\n",
      "\n",
      "children\n",
      "-1        47\n",
      " 0     14149\n",
      " 1      4818\n",
      " 2      2055\n",
      " 3       330\n",
      " 4        41\n",
      " 5         9\n",
      " 20       76\n",
      "Name: children, dtype: int64\n",
      "\n",
      "gender\n",
      "F    14237\n",
      "M     7288\n",
      "Name: gender, dtype: int64\n",
      "\n",
      "children\n",
      "0    14149\n",
      "1     4865\n",
      "2     2131\n",
      "3      330\n",
      "4       41\n",
      "5        9\n",
      "Name: children, dtype: int64\n"
     ]
    }
   ],
   "source": [
    "#в предыдущем коде нашли явные пропуски, а что если имеются еще и ошибки допущенные оператором?\n",
    "print(data.groupby('gender')['gender'].count())\n",
    "print()\n",
    "print(data['dob_years'].unique())\n",
    "print()\n",
    "print(data.groupby('children')['children'].count())\n",
    "print()\n",
    "\n",
    "#Найдя явные ошибки в данных ,сделанные оператором, попробуем их исправить\n",
    "\n",
    "#применим функцию замены значений для пола, заменив неподходящее значение на наиболее встречаемый пол\n",
    "data['gender'] = data['gender'].replace('XNA',data['gender'].value_counts().idxmax())\n",
    "print(data.groupby('gender')['gender'].count())\n",
    "print()\n",
    "#аналогично выполним и для устранения артефактов в столбце дети(children)\n",
    "data['children'] = data['children'].replace(-1, 1)\n",
    "data['children'] = data['children'].replace(20, 2)\n",
    "print(data.groupby('children')['children'].count())"
   ]
  },
  {
   "cell_type": "code",
   "execution_count": 11,
   "metadata": {},
   "outputs": [],
   "source": [
    "# КОД РЕВЬЮВЕРА\n",
    "\n",
    "data['dob_years'] = data.groupby('family_status')['dob_years'].transform(lambda x: x.replace(0, int(x.median())))"
   ]
  },
  {
   "cell_type": "markdown",
   "metadata": {},
   "source": [
    "### Замена типа данных"
   ]
  },
  {
   "cell_type": "markdown",
   "metadata": {},
   "source": [
    " Для дальнейшей работы необходимо произвести некоторые преобразования типов данных, в частности применить преобразование для двух столбцов(так как например *общий трудовой стаж* не может явно измеряться в частях дней).Для начала необходимо определиться с методом преобразования данных.Наиболее всего подходит метод astype, так как необходимо произвести преобразование из вещественного типа данных в целочисленный."
   ]
  },
  {
   "cell_type": "code",
   "execution_count": 12,
   "metadata": {},
   "outputs": [
    {
     "name": "stdout",
     "output_type": "stream",
     "text": [
      "<class 'pandas.core.frame.DataFrame'>\n",
      "RangeIndex: 21525 entries, 0 to 21524\n",
      "Data columns (total 12 columns):\n",
      "children            21525 non-null int64\n",
      "days_employed       21525 non-null int64\n",
      "dob_years           21525 non-null int64\n",
      "education           21525 non-null object\n",
      "education_id        21525 non-null int64\n",
      "family_status       21525 non-null object\n",
      "family_status_id    21525 non-null int64\n",
      "gender              21525 non-null object\n",
      "income_type         21525 non-null object\n",
      "debt                21525 non-null int64\n",
      "total_income        21525 non-null int64\n",
      "purpose             21525 non-null object\n",
      "dtypes: int64(7), object(5)\n",
      "memory usage: 2.0+ MB\n"
     ]
    }
   ],
   "source": [
    "#Проверим метод преобразования для двух столбцов (days_employed,total_income  )\n",
    "data['total_income'] = data['total_income'].astype(int)\n",
    "data['days_employed'] = data['days_employed'].astype(int)\n",
    "data.info()"
   ]
  },
  {
   "cell_type": "markdown",
   "metadata": {},
   "source": [
    "**Вывод**"
   ]
  },
  {
   "cell_type": "markdown",
   "metadata": {},
   "source": [
    "Выполнив преобразование данных, необходимо убедиться в отсутствии дубликатов."
   ]
  },
  {
   "cell_type": "markdown",
   "metadata": {},
   "source": [
    "### Обработка дубликатов"
   ]
  },
  {
   "cell_type": "code",
   "execution_count": 13,
   "metadata": {},
   "outputs": [
    {
     "name": "stdout",
     "output_type": "stream",
     "text": [
      "55\n"
     ]
    },
    {
     "data": {
      "text/html": [
       "<div>\n",
       "<style scoped>\n",
       "    .dataframe tbody tr th:only-of-type {\n",
       "        vertical-align: middle;\n",
       "    }\n",
       "\n",
       "    .dataframe tbody tr th {\n",
       "        vertical-align: top;\n",
       "    }\n",
       "\n",
       "    .dataframe thead th {\n",
       "        text-align: right;\n",
       "    }\n",
       "</style>\n",
       "<table border=\"1\" class=\"dataframe\">\n",
       "  <thead>\n",
       "    <tr style=\"text-align: right;\">\n",
       "      <th></th>\n",
       "      <th>children</th>\n",
       "      <th>days_employed</th>\n",
       "      <th>dob_years</th>\n",
       "      <th>education</th>\n",
       "      <th>education_id</th>\n",
       "      <th>family_status</th>\n",
       "      <th>family_status_id</th>\n",
       "      <th>gender</th>\n",
       "      <th>income_type</th>\n",
       "      <th>debt</th>\n",
       "      <th>total_income</th>\n",
       "      <th>purpose</th>\n",
       "    </tr>\n",
       "  </thead>\n",
       "  <tbody>\n",
       "    <tr>\n",
       "      <td>15892</td>\n",
       "      <td>0</td>\n",
       "      <td>2194</td>\n",
       "      <td>23</td>\n",
       "      <td>среднее</td>\n",
       "      <td>1</td>\n",
       "      <td>Не женат / не замужем</td>\n",
       "      <td>4</td>\n",
       "      <td>F</td>\n",
       "      <td>сотрудник</td>\n",
       "      <td>0</td>\n",
       "      <td>145017</td>\n",
       "      <td>сделка с подержанным автомобилем</td>\n",
       "    </tr>\n",
       "    <tr>\n",
       "      <td>19321</td>\n",
       "      <td>0</td>\n",
       "      <td>2194</td>\n",
       "      <td>23</td>\n",
       "      <td>среднее</td>\n",
       "      <td>1</td>\n",
       "      <td>Не женат / не замужем</td>\n",
       "      <td>4</td>\n",
       "      <td>F</td>\n",
       "      <td>сотрудник</td>\n",
       "      <td>0</td>\n",
       "      <td>145017</td>\n",
       "      <td>сделка с подержанным автомобилем</td>\n",
       "    </tr>\n",
       "    <tr>\n",
       "      <td>3452</td>\n",
       "      <td>0</td>\n",
       "      <td>2194</td>\n",
       "      <td>29</td>\n",
       "      <td>высшее</td>\n",
       "      <td>0</td>\n",
       "      <td>женат / замужем</td>\n",
       "      <td>0</td>\n",
       "      <td>M</td>\n",
       "      <td>сотрудник</td>\n",
       "      <td>0</td>\n",
       "      <td>145017</td>\n",
       "      <td>покупка жилой недвижимости</td>\n",
       "    </tr>\n",
       "    <tr>\n",
       "      <td>18328</td>\n",
       "      <td>0</td>\n",
       "      <td>2194</td>\n",
       "      <td>29</td>\n",
       "      <td>высшее</td>\n",
       "      <td>0</td>\n",
       "      <td>женат / замужем</td>\n",
       "      <td>0</td>\n",
       "      <td>M</td>\n",
       "      <td>сотрудник</td>\n",
       "      <td>0</td>\n",
       "      <td>145017</td>\n",
       "      <td>покупка жилой недвижимости</td>\n",
       "    </tr>\n",
       "    <tr>\n",
       "      <td>520</td>\n",
       "      <td>0</td>\n",
       "      <td>2194</td>\n",
       "      <td>35</td>\n",
       "      <td>среднее</td>\n",
       "      <td>1</td>\n",
       "      <td>гражданский брак</td>\n",
       "      <td>1</td>\n",
       "      <td>F</td>\n",
       "      <td>сотрудник</td>\n",
       "      <td>0</td>\n",
       "      <td>145017</td>\n",
       "      <td>сыграть свадьбу</td>\n",
       "    </tr>\n",
       "    <tr>\n",
       "      <td>...</td>\n",
       "      <td>...</td>\n",
       "      <td>...</td>\n",
       "      <td>...</td>\n",
       "      <td>...</td>\n",
       "      <td>...</td>\n",
       "      <td>...</td>\n",
       "      <td>...</td>\n",
       "      <td>...</td>\n",
       "      <td>...</td>\n",
       "      <td>...</td>\n",
       "      <td>...</td>\n",
       "      <td>...</td>\n",
       "    </tr>\n",
       "    <tr>\n",
       "      <td>9238</td>\n",
       "      <td>2</td>\n",
       "      <td>2194</td>\n",
       "      <td>34</td>\n",
       "      <td>среднее</td>\n",
       "      <td>1</td>\n",
       "      <td>женат / замужем</td>\n",
       "      <td>0</td>\n",
       "      <td>F</td>\n",
       "      <td>сотрудник</td>\n",
       "      <td>0</td>\n",
       "      <td>145017</td>\n",
       "      <td>покупка жилья для сдачи</td>\n",
       "    </tr>\n",
       "    <tr>\n",
       "      <td>9013</td>\n",
       "      <td>2</td>\n",
       "      <td>2194</td>\n",
       "      <td>36</td>\n",
       "      <td>высшее</td>\n",
       "      <td>0</td>\n",
       "      <td>женат / замужем</td>\n",
       "      <td>0</td>\n",
       "      <td>F</td>\n",
       "      <td>госслужащий</td>\n",
       "      <td>0</td>\n",
       "      <td>145017</td>\n",
       "      <td>получение образования</td>\n",
       "    </tr>\n",
       "    <tr>\n",
       "      <td>14432</td>\n",
       "      <td>2</td>\n",
       "      <td>2194</td>\n",
       "      <td>36</td>\n",
       "      <td>высшее</td>\n",
       "      <td>0</td>\n",
       "      <td>женат / замужем</td>\n",
       "      <td>0</td>\n",
       "      <td>F</td>\n",
       "      <td>госслужащий</td>\n",
       "      <td>0</td>\n",
       "      <td>145017</td>\n",
       "      <td>получение образования</td>\n",
       "    </tr>\n",
       "    <tr>\n",
       "      <td>11033</td>\n",
       "      <td>2</td>\n",
       "      <td>2194</td>\n",
       "      <td>39</td>\n",
       "      <td>среднее</td>\n",
       "      <td>1</td>\n",
       "      <td>гражданский брак</td>\n",
       "      <td>1</td>\n",
       "      <td>F</td>\n",
       "      <td>сотрудник</td>\n",
       "      <td>0</td>\n",
       "      <td>145017</td>\n",
       "      <td>сыграть свадьбу</td>\n",
       "    </tr>\n",
       "    <tr>\n",
       "      <td>16902</td>\n",
       "      <td>2</td>\n",
       "      <td>2194</td>\n",
       "      <td>39</td>\n",
       "      <td>среднее</td>\n",
       "      <td>1</td>\n",
       "      <td>гражданский брак</td>\n",
       "      <td>1</td>\n",
       "      <td>F</td>\n",
       "      <td>сотрудник</td>\n",
       "      <td>0</td>\n",
       "      <td>145017</td>\n",
       "      <td>сыграть свадьбу</td>\n",
       "    </tr>\n",
       "  </tbody>\n",
       "</table>\n",
       "<p>108 rows × 12 columns</p>\n",
       "</div>"
      ],
      "text/plain": [
       "       children  days_employed  dob_years education  education_id  \\\n",
       "15892         0           2194         23   среднее             1   \n",
       "19321         0           2194         23   среднее             1   \n",
       "3452          0           2194         29    высшее             0   \n",
       "18328         0           2194         29    высшее             0   \n",
       "520           0           2194         35   среднее             1   \n",
       "...         ...            ...        ...       ...           ...   \n",
       "9238          2           2194         34   среднее             1   \n",
       "9013          2           2194         36    высшее             0   \n",
       "14432         2           2194         36    высшее             0   \n",
       "11033         2           2194         39   среднее             1   \n",
       "16902         2           2194         39   среднее             1   \n",
       "\n",
       "               family_status  family_status_id gender  income_type  debt  \\\n",
       "15892  Не женат / не замужем                 4      F    сотрудник     0   \n",
       "19321  Не женат / не замужем                 4      F    сотрудник     0   \n",
       "3452         женат / замужем                 0      M    сотрудник     0   \n",
       "18328        женат / замужем                 0      M    сотрудник     0   \n",
       "520         гражданский брак                 1      F    сотрудник     0   \n",
       "...                      ...               ...    ...          ...   ...   \n",
       "9238         женат / замужем                 0      F    сотрудник     0   \n",
       "9013         женат / замужем                 0      F  госслужащий     0   \n",
       "14432        женат / замужем                 0      F  госслужащий     0   \n",
       "11033       гражданский брак                 1      F    сотрудник     0   \n",
       "16902       гражданский брак                 1      F    сотрудник     0   \n",
       "\n",
       "       total_income                           purpose  \n",
       "15892        145017  сделка с подержанным автомобилем  \n",
       "19321        145017  сделка с подержанным автомобилем  \n",
       "3452         145017        покупка жилой недвижимости  \n",
       "18328        145017        покупка жилой недвижимости  \n",
       "520          145017                   сыграть свадьбу  \n",
       "...             ...                               ...  \n",
       "9238         145017           покупка жилья для сдачи  \n",
       "9013         145017             получение образования  \n",
       "14432        145017             получение образования  \n",
       "11033        145017                   сыграть свадьбу  \n",
       "16902        145017                   сыграть свадьбу  \n",
       "\n",
       "[108 rows x 12 columns]"
      ]
     },
     "metadata": {},
     "output_type": "display_data"
    },
    {
     "name": "stdout",
     "output_type": "stream",
     "text": [
      "среднее                15233\n",
      "высшее                  5260\n",
      "неоконченное высшее      744\n",
      "начальное                282\n",
      "ученая степень             6\n",
      "Name: education, dtype: int64\n"
     ]
    },
    {
     "data": {
      "text/html": [
       "<div>\n",
       "<style scoped>\n",
       "    .dataframe tbody tr th:only-of-type {\n",
       "        vertical-align: middle;\n",
       "    }\n",
       "\n",
       "    .dataframe tbody tr th {\n",
       "        vertical-align: top;\n",
       "    }\n",
       "\n",
       "    .dataframe thead th {\n",
       "        text-align: right;\n",
       "    }\n",
       "</style>\n",
       "<table border=\"1\" class=\"dataframe\">\n",
       "  <thead>\n",
       "    <tr style=\"text-align: right;\">\n",
       "      <th></th>\n",
       "      <th>children</th>\n",
       "      <th>days_employed</th>\n",
       "      <th>dob_years</th>\n",
       "      <th>education</th>\n",
       "      <th>education_id</th>\n",
       "      <th>family_status</th>\n",
       "      <th>family_status_id</th>\n",
       "      <th>gender</th>\n",
       "      <th>income_type</th>\n",
       "      <th>debt</th>\n",
       "      <th>total_income</th>\n",
       "      <th>purpose</th>\n",
       "    </tr>\n",
       "  </thead>\n",
       "  <tbody>\n",
       "    <tr>\n",
       "      <td>0</td>\n",
       "      <td>1</td>\n",
       "      <td>8437</td>\n",
       "      <td>42</td>\n",
       "      <td>высшее</td>\n",
       "      <td>0</td>\n",
       "      <td>женат / замужем</td>\n",
       "      <td>0</td>\n",
       "      <td>F</td>\n",
       "      <td>сотрудник</td>\n",
       "      <td>0</td>\n",
       "      <td>253875</td>\n",
       "      <td>покупка жилья</td>\n",
       "    </tr>\n",
       "    <tr>\n",
       "      <td>1</td>\n",
       "      <td>1</td>\n",
       "      <td>4024</td>\n",
       "      <td>36</td>\n",
       "      <td>среднее</td>\n",
       "      <td>1</td>\n",
       "      <td>женат / замужем</td>\n",
       "      <td>0</td>\n",
       "      <td>F</td>\n",
       "      <td>сотрудник</td>\n",
       "      <td>0</td>\n",
       "      <td>112080</td>\n",
       "      <td>приобретение автомобиля</td>\n",
       "    </tr>\n",
       "    <tr>\n",
       "      <td>2</td>\n",
       "      <td>0</td>\n",
       "      <td>5623</td>\n",
       "      <td>33</td>\n",
       "      <td>среднее</td>\n",
       "      <td>1</td>\n",
       "      <td>женат / замужем</td>\n",
       "      <td>0</td>\n",
       "      <td>M</td>\n",
       "      <td>сотрудник</td>\n",
       "      <td>0</td>\n",
       "      <td>145885</td>\n",
       "      <td>покупка жилья</td>\n",
       "    </tr>\n",
       "    <tr>\n",
       "      <td>3</td>\n",
       "      <td>3</td>\n",
       "      <td>4124</td>\n",
       "      <td>32</td>\n",
       "      <td>среднее</td>\n",
       "      <td>1</td>\n",
       "      <td>женат / замужем</td>\n",
       "      <td>0</td>\n",
       "      <td>M</td>\n",
       "      <td>сотрудник</td>\n",
       "      <td>0</td>\n",
       "      <td>267628</td>\n",
       "      <td>дополнительное образование</td>\n",
       "    </tr>\n",
       "    <tr>\n",
       "      <td>4</td>\n",
       "      <td>0</td>\n",
       "      <td>14177</td>\n",
       "      <td>53</td>\n",
       "      <td>среднее</td>\n",
       "      <td>1</td>\n",
       "      <td>гражданский брак</td>\n",
       "      <td>1</td>\n",
       "      <td>F</td>\n",
       "      <td>пенсионер</td>\n",
       "      <td>0</td>\n",
       "      <td>158616</td>\n",
       "      <td>сыграть свадьбу</td>\n",
       "    </tr>\n",
       "    <tr>\n",
       "      <td>...</td>\n",
       "      <td>...</td>\n",
       "      <td>...</td>\n",
       "      <td>...</td>\n",
       "      <td>...</td>\n",
       "      <td>...</td>\n",
       "      <td>...</td>\n",
       "      <td>...</td>\n",
       "      <td>...</td>\n",
       "      <td>...</td>\n",
       "      <td>...</td>\n",
       "      <td>...</td>\n",
       "      <td>...</td>\n",
       "    </tr>\n",
       "    <tr>\n",
       "      <td>21448</td>\n",
       "      <td>1</td>\n",
       "      <td>4529</td>\n",
       "      <td>43</td>\n",
       "      <td>среднее</td>\n",
       "      <td>1</td>\n",
       "      <td>гражданский брак</td>\n",
       "      <td>1</td>\n",
       "      <td>F</td>\n",
       "      <td>компаньон</td>\n",
       "      <td>0</td>\n",
       "      <td>224791</td>\n",
       "      <td>операции с жильем</td>\n",
       "    </tr>\n",
       "    <tr>\n",
       "      <td>21449</td>\n",
       "      <td>0</td>\n",
       "      <td>14330</td>\n",
       "      <td>67</td>\n",
       "      <td>среднее</td>\n",
       "      <td>1</td>\n",
       "      <td>женат / замужем</td>\n",
       "      <td>0</td>\n",
       "      <td>F</td>\n",
       "      <td>пенсионер</td>\n",
       "      <td>0</td>\n",
       "      <td>155999</td>\n",
       "      <td>сделка с автомобилем</td>\n",
       "    </tr>\n",
       "    <tr>\n",
       "      <td>21450</td>\n",
       "      <td>1</td>\n",
       "      <td>2113</td>\n",
       "      <td>38</td>\n",
       "      <td>среднее</td>\n",
       "      <td>1</td>\n",
       "      <td>гражданский брак</td>\n",
       "      <td>1</td>\n",
       "      <td>M</td>\n",
       "      <td>сотрудник</td>\n",
       "      <td>1</td>\n",
       "      <td>89672</td>\n",
       "      <td>недвижимость</td>\n",
       "    </tr>\n",
       "    <tr>\n",
       "      <td>21451</td>\n",
       "      <td>3</td>\n",
       "      <td>3112</td>\n",
       "      <td>38</td>\n",
       "      <td>среднее</td>\n",
       "      <td>1</td>\n",
       "      <td>женат / замужем</td>\n",
       "      <td>0</td>\n",
       "      <td>M</td>\n",
       "      <td>сотрудник</td>\n",
       "      <td>1</td>\n",
       "      <td>244093</td>\n",
       "      <td>на покупку своего автомобиля</td>\n",
       "    </tr>\n",
       "    <tr>\n",
       "      <td>21452</td>\n",
       "      <td>2</td>\n",
       "      <td>1984</td>\n",
       "      <td>40</td>\n",
       "      <td>среднее</td>\n",
       "      <td>1</td>\n",
       "      <td>женат / замужем</td>\n",
       "      <td>0</td>\n",
       "      <td>F</td>\n",
       "      <td>сотрудник</td>\n",
       "      <td>0</td>\n",
       "      <td>82047</td>\n",
       "      <td>на покупку автомобиля</td>\n",
       "    </tr>\n",
       "  </tbody>\n",
       "</table>\n",
       "<p>21453 rows × 12 columns</p>\n",
       "</div>"
      ],
      "text/plain": [
       "       children  days_employed  dob_years education  education_id  \\\n",
       "0             1           8437         42    высшее             0   \n",
       "1             1           4024         36   среднее             1   \n",
       "2             0           5623         33   среднее             1   \n",
       "3             3           4124         32   среднее             1   \n",
       "4             0          14177         53   среднее             1   \n",
       "...         ...            ...        ...       ...           ...   \n",
       "21448         1           4529         43   среднее             1   \n",
       "21449         0          14330         67   среднее             1   \n",
       "21450         1           2113         38   среднее             1   \n",
       "21451         3           3112         38   среднее             1   \n",
       "21452         2           1984         40   среднее             1   \n",
       "\n",
       "          family_status  family_status_id gender income_type  debt  \\\n",
       "0       женат / замужем                 0      F   сотрудник     0   \n",
       "1       женат / замужем                 0      F   сотрудник     0   \n",
       "2       женат / замужем                 0      M   сотрудник     0   \n",
       "3       женат / замужем                 0      M   сотрудник     0   \n",
       "4      гражданский брак                 1      F   пенсионер     0   \n",
       "...                 ...               ...    ...         ...   ...   \n",
       "21448  гражданский брак                 1      F   компаньон     0   \n",
       "21449   женат / замужем                 0      F   пенсионер     0   \n",
       "21450  гражданский брак                 1      M   сотрудник     1   \n",
       "21451   женат / замужем                 0      M   сотрудник     1   \n",
       "21452   женат / замужем                 0      F   сотрудник     0   \n",
       "\n",
       "       total_income                       purpose  \n",
       "0            253875                 покупка жилья  \n",
       "1            112080       приобретение автомобиля  \n",
       "2            145885                 покупка жилья  \n",
       "3            267628    дополнительное образование  \n",
       "4            158616               сыграть свадьбу  \n",
       "...             ...                           ...  \n",
       "21448        224791             операции с жильем  \n",
       "21449        155999          сделка с автомобилем  \n",
       "21450         89672                  недвижимость  \n",
       "21451        244093  на покупку своего автомобиля  \n",
       "21452         82047         на покупку автомобиля  \n",
       "\n",
       "[21453 rows x 12 columns]"
      ]
     },
     "metadata": {},
     "output_type": "display_data"
    }
   ],
   "source": [
    "#Найдем явные дубликаты и их количество\n",
    "print(data.duplicated().sum())\n",
    "#Посмотрим на дубликаты в табличном виде\n",
    "duplicated_data = data[data.duplicated(keep = False)].sort_values(by = list(data.columns))\n",
    "display(duplicated_data)\n",
    "#Приведем к единому регистру столбец с дубликатами\n",
    "data['education'] = data['education'].str.lower()\n",
    "print(data['education'].value_counts())\n",
    "data = data.drop_duplicates().reset_index(drop=True)\n",
    "display(data)"
   ]
  },
  {
   "cell_type": "markdown",
   "metadata": {},
   "source": [
    "**Вывод**"
   ]
  },
  {
   "cell_type": "markdown",
   "metadata": {},
   "source": [
    " Были найдены и удалены 71 явный дубликат. Дубликаты появились скорее всего по причине ошибки человека-оператора, который заполнял заявки на одобрение кредитов."
   ]
  },
  {
   "cell_type": "markdown",
   "metadata": {},
   "source": [
    "### Лемматизация"
   ]
  },
  {
   "cell_type": "code",
   "execution_count": 14,
   "metadata": {},
   "outputs": [
    {
     "name": "stdout",
     "output_type": "stream",
     "text": [
      "покупка жилья,приобретение автомобиля,дополнительное образование,сыграть свадьбу,операции с жильем,образование,на проведение свадьбы,покупка жилья для семьи,покупка недвижимости,покупка коммерческой недвижимости,покупка жилой недвижимости,строительство собственной недвижимости,недвижимость,строительство недвижимости,на покупку подержанного автомобиля,на покупку своего автомобиля,операции с коммерческой недвижимостью,строительство жилой недвижимости,жилье,операции со своей недвижимостью,автомобили,заняться образованием,сделка с подержанным автомобилем,получение образования,автомобиль,свадьба,получение дополнительного образования,покупка своего жилья,операции с недвижимостью,получение высшего образования,свой автомобиль,сделка с автомобилем,профильное образование,высшее образование,покупка жилья для сдачи,на покупку автомобиля,ремонт жилью,заняться высшим образованием\n",
      "\n",
      "Counter({'покупка жилья': 1, 'приобретение автомобиля': 1, 'дополнительное образование': 1, 'сыграть свадьбу': 1, 'операции с жильем': 1, 'образование': 1, 'на проведение свадьбы': 1, 'покупка жилья для семьи': 1, 'покупка недвижимости': 1, 'покупка коммерческой недвижимости': 1, 'покупка жилой недвижимости': 1, 'строительство собственной недвижимости': 1, 'недвижимость': 1, 'строительство недвижимости': 1, 'на покупку подержанного автомобиля': 1, 'на покупку своего автомобиля': 1, 'операции с коммерческой недвижимостью': 1, 'строительство жилой недвижимости': 1, 'жилье': 1, 'операции со своей недвижимостью': 1, 'автомобили': 1, 'заняться образованием': 1, 'сделка с подержанным автомобилем': 1, 'получение образования': 1, 'автомобиль': 1, 'свадьба': 1, 'получение дополнительного образования': 1, 'покупка своего жилья': 1, 'операции с недвижимостью': 1, 'получение высшего образования': 1, 'свой автомобиль': 1, 'сделка с автомобилем': 1, 'профильное образование': 1, 'высшее образование': 1, 'покупка жилья для сдачи': 1, 'на покупку автомобиля': 1, 'ремонт жилью': 1, 'заняться высшим образованием': 1})\n"
     ]
    },
    {
     "data": {
      "text/html": [
       "<div>\n",
       "<style scoped>\n",
       "    .dataframe tbody tr th:only-of-type {\n",
       "        vertical-align: middle;\n",
       "    }\n",
       "\n",
       "    .dataframe tbody tr th {\n",
       "        vertical-align: top;\n",
       "    }\n",
       "\n",
       "    .dataframe thead th {\n",
       "        text-align: right;\n",
       "    }\n",
       "</style>\n",
       "<table border=\"1\" class=\"dataframe\">\n",
       "  <thead>\n",
       "    <tr style=\"text-align: right;\">\n",
       "      <th></th>\n",
       "      <th>children</th>\n",
       "      <th>days_employed</th>\n",
       "      <th>dob_years</th>\n",
       "      <th>education</th>\n",
       "      <th>education_id</th>\n",
       "      <th>family_status</th>\n",
       "      <th>family_status_id</th>\n",
       "      <th>gender</th>\n",
       "      <th>income_type</th>\n",
       "      <th>debt</th>\n",
       "      <th>total_income</th>\n",
       "      <th>purpose</th>\n",
       "      <th>category</th>\n",
       "    </tr>\n",
       "  </thead>\n",
       "  <tbody>\n",
       "    <tr>\n",
       "      <td>0</td>\n",
       "      <td>1</td>\n",
       "      <td>8437</td>\n",
       "      <td>42</td>\n",
       "      <td>высшее</td>\n",
       "      <td>0</td>\n",
       "      <td>женат / замужем</td>\n",
       "      <td>0</td>\n",
       "      <td>F</td>\n",
       "      <td>сотрудник</td>\n",
       "      <td>0</td>\n",
       "      <td>253875</td>\n",
       "      <td>покупка жилья</td>\n",
       "      <td>недвижимость</td>\n",
       "    </tr>\n",
       "    <tr>\n",
       "      <td>1</td>\n",
       "      <td>1</td>\n",
       "      <td>4024</td>\n",
       "      <td>36</td>\n",
       "      <td>среднее</td>\n",
       "      <td>1</td>\n",
       "      <td>женат / замужем</td>\n",
       "      <td>0</td>\n",
       "      <td>F</td>\n",
       "      <td>сотрудник</td>\n",
       "      <td>0</td>\n",
       "      <td>112080</td>\n",
       "      <td>приобретение автомобиля</td>\n",
       "      <td>автомобиль</td>\n",
       "    </tr>\n",
       "    <tr>\n",
       "      <td>2</td>\n",
       "      <td>0</td>\n",
       "      <td>5623</td>\n",
       "      <td>33</td>\n",
       "      <td>среднее</td>\n",
       "      <td>1</td>\n",
       "      <td>женат / замужем</td>\n",
       "      <td>0</td>\n",
       "      <td>M</td>\n",
       "      <td>сотрудник</td>\n",
       "      <td>0</td>\n",
       "      <td>145885</td>\n",
       "      <td>покупка жилья</td>\n",
       "      <td>недвижимость</td>\n",
       "    </tr>\n",
       "    <tr>\n",
       "      <td>3</td>\n",
       "      <td>3</td>\n",
       "      <td>4124</td>\n",
       "      <td>32</td>\n",
       "      <td>среднее</td>\n",
       "      <td>1</td>\n",
       "      <td>женат / замужем</td>\n",
       "      <td>0</td>\n",
       "      <td>M</td>\n",
       "      <td>сотрудник</td>\n",
       "      <td>0</td>\n",
       "      <td>267628</td>\n",
       "      <td>дополнительное образование</td>\n",
       "      <td>образование</td>\n",
       "    </tr>\n",
       "    <tr>\n",
       "      <td>4</td>\n",
       "      <td>0</td>\n",
       "      <td>14177</td>\n",
       "      <td>53</td>\n",
       "      <td>среднее</td>\n",
       "      <td>1</td>\n",
       "      <td>гражданский брак</td>\n",
       "      <td>1</td>\n",
       "      <td>F</td>\n",
       "      <td>пенсионер</td>\n",
       "      <td>0</td>\n",
       "      <td>158616</td>\n",
       "      <td>сыграть свадьбу</td>\n",
       "      <td>свадьба</td>\n",
       "    </tr>\n",
       "  </tbody>\n",
       "</table>\n",
       "</div>"
      ],
      "text/plain": [
       "   children  days_employed  dob_years education  education_id  \\\n",
       "0         1           8437         42    высшее             0   \n",
       "1         1           4024         36   среднее             1   \n",
       "2         0           5623         33   среднее             1   \n",
       "3         3           4124         32   среднее             1   \n",
       "4         0          14177         53   среднее             1   \n",
       "\n",
       "      family_status  family_status_id gender income_type  debt  total_income  \\\n",
       "0   женат / замужем                 0      F   сотрудник     0        253875   \n",
       "1   женат / замужем                 0      F   сотрудник     0        112080   \n",
       "2   женат / замужем                 0      M   сотрудник     0        145885   \n",
       "3   женат / замужем                 0      M   сотрудник     0        267628   \n",
       "4  гражданский брак                 1      F   пенсионер     0        158616   \n",
       "\n",
       "                      purpose      category  \n",
       "0               покупка жилья  недвижимость  \n",
       "1     приобретение автомобиля    автомобиль  \n",
       "2               покупка жилья  недвижимость  \n",
       "3  дополнительное образование   образование  \n",
       "4             сыграть свадьбу       свадьба  "
      ]
     },
     "metadata": {},
     "output_type": "display_data"
    }
   ],
   "source": [
    "#выделим уникальные значения в целях приобретения кредита\n",
    "purpose_str = data['purpose'].unique()\n",
    "print(\",\".join(purpose_str))\n",
    "print()\n",
    "#подсчитаем количество уникальных значений\n",
    "print(Counter(purpose_str))\n",
    "#выделим основные группы,лемы(\"образование\",\"недвижимость\",\"автомобиль\",\"прочее\")\n",
    "#Создадим функцию, которая будет последовательно проходить по всему списку и в зависимости от лемматизации будет выдавать значение\n",
    "m = Mystem()\n",
    "def categorize(purpose):\n",
    "    purpose_lemmas = m.lemmatize(purpose)\n",
    "    if 'недвижимость' in purpose_lemmas or 'жилье' in purpose_lemmas:\n",
    "        return 'недвижимость'\n",
    "    if 'автомобиль' in purpose_lemmas:\n",
    "        return 'автомобиль'\n",
    "    if 'образование' in purpose_lemmas:\n",
    "        return 'образование'\n",
    "    if 'свадьба' in purpose_lemmas:\n",
    "        return 'свадьба'\n",
    "    return 'прочее'\n",
    "\n",
    "data['category'] = data['purpose'].apply(categorize)\n",
    "display(data.head(5))"
   ]
  },
  {
   "cell_type": "markdown",
   "metadata": {},
   "source": [
    "**Вывод**"
   ]
  },
  {
   "cell_type": "markdown",
   "metadata": {},
   "source": [
    " Из полученных результатов можно сделать вывод, что люди в основном берут кредиты на 3 категории : Недвижимость(различные операции с ней :покупка, сдача в аренду), Образование , Автомобиль, Свадьба. На основе этих 3-х групп и были выделены леммы."
   ]
  },
  {
   "cell_type": "markdown",
   "metadata": {},
   "source": [
    "### Категоризация данных"
   ]
  },
  {
   "cell_type": "code",
   "execution_count": 15,
   "metadata": {},
   "outputs": [
    {
     "data": {
      "text/plain": [
       "education\n",
       "высшее                  5250\n",
       "начальное                282\n",
       "неоконченное высшее      744\n",
       "среднее                15171\n",
       "ученая степень             6\n",
       "Name: education, dtype: int64"
      ]
     },
     "metadata": {},
     "output_type": "display_data"
    },
    {
     "data": {
      "text/html": [
       "<div>\n",
       "<style scoped>\n",
       "    .dataframe tbody tr th:only-of-type {\n",
       "        vertical-align: middle;\n",
       "    }\n",
       "\n",
       "    .dataframe tbody tr th {\n",
       "        vertical-align: top;\n",
       "    }\n",
       "\n",
       "    .dataframe thead th {\n",
       "        text-align: right;\n",
       "    }\n",
       "</style>\n",
       "<table border=\"1\" class=\"dataframe\">\n",
       "  <thead>\n",
       "    <tr style=\"text-align: right;\">\n",
       "      <th></th>\n",
       "      <th>children</th>\n",
       "      <th>days_employed</th>\n",
       "      <th>dob_years</th>\n",
       "      <th>education</th>\n",
       "      <th>education_id</th>\n",
       "      <th>family_status</th>\n",
       "      <th>family_status_id</th>\n",
       "      <th>gender</th>\n",
       "      <th>income_type</th>\n",
       "      <th>debt</th>\n",
       "      <th>total_income</th>\n",
       "      <th>purpose</th>\n",
       "      <th>category</th>\n",
       "      <th>total_income_categorize</th>\n",
       "    </tr>\n",
       "  </thead>\n",
       "  <tbody>\n",
       "    <tr>\n",
       "      <td>0</td>\n",
       "      <td>1</td>\n",
       "      <td>8437</td>\n",
       "      <td>42</td>\n",
       "      <td>высшее</td>\n",
       "      <td>0</td>\n",
       "      <td>женат / замужем</td>\n",
       "      <td>0</td>\n",
       "      <td>F</td>\n",
       "      <td>сотрудник</td>\n",
       "      <td>0</td>\n",
       "      <td>253875</td>\n",
       "      <td>покупка жилья</td>\n",
       "      <td>недвижимость</td>\n",
       "      <td>средний</td>\n",
       "    </tr>\n",
       "    <tr>\n",
       "      <td>1</td>\n",
       "      <td>1</td>\n",
       "      <td>4024</td>\n",
       "      <td>36</td>\n",
       "      <td>среднее</td>\n",
       "      <td>1</td>\n",
       "      <td>женат / замужем</td>\n",
       "      <td>0</td>\n",
       "      <td>F</td>\n",
       "      <td>сотрудник</td>\n",
       "      <td>0</td>\n",
       "      <td>112080</td>\n",
       "      <td>приобретение автомобиля</td>\n",
       "      <td>автомобиль</td>\n",
       "      <td>средний</td>\n",
       "    </tr>\n",
       "    <tr>\n",
       "      <td>2</td>\n",
       "      <td>0</td>\n",
       "      <td>5623</td>\n",
       "      <td>33</td>\n",
       "      <td>среднее</td>\n",
       "      <td>1</td>\n",
       "      <td>женат / замужем</td>\n",
       "      <td>0</td>\n",
       "      <td>M</td>\n",
       "      <td>сотрудник</td>\n",
       "      <td>0</td>\n",
       "      <td>145885</td>\n",
       "      <td>покупка жилья</td>\n",
       "      <td>недвижимость</td>\n",
       "      <td>средний</td>\n",
       "    </tr>\n",
       "    <tr>\n",
       "      <td>3</td>\n",
       "      <td>3</td>\n",
       "      <td>4124</td>\n",
       "      <td>32</td>\n",
       "      <td>среднее</td>\n",
       "      <td>1</td>\n",
       "      <td>женат / замужем</td>\n",
       "      <td>0</td>\n",
       "      <td>M</td>\n",
       "      <td>сотрудник</td>\n",
       "      <td>0</td>\n",
       "      <td>267628</td>\n",
       "      <td>дополнительное образование</td>\n",
       "      <td>образование</td>\n",
       "      <td>средний</td>\n",
       "    </tr>\n",
       "    <tr>\n",
       "      <td>4</td>\n",
       "      <td>0</td>\n",
       "      <td>14177</td>\n",
       "      <td>53</td>\n",
       "      <td>среднее</td>\n",
       "      <td>1</td>\n",
       "      <td>гражданский брак</td>\n",
       "      <td>1</td>\n",
       "      <td>F</td>\n",
       "      <td>пенсионер</td>\n",
       "      <td>0</td>\n",
       "      <td>158616</td>\n",
       "      <td>сыграть свадьбу</td>\n",
       "      <td>свадьба</td>\n",
       "      <td>средний</td>\n",
       "    </tr>\n",
       "  </tbody>\n",
       "</table>\n",
       "</div>"
      ],
      "text/plain": [
       "   children  days_employed  dob_years education  education_id  \\\n",
       "0         1           8437         42    высшее             0   \n",
       "1         1           4024         36   среднее             1   \n",
       "2         0           5623         33   среднее             1   \n",
       "3         3           4124         32   среднее             1   \n",
       "4         0          14177         53   среднее             1   \n",
       "\n",
       "      family_status  family_status_id gender income_type  debt  total_income  \\\n",
       "0   женат / замужем                 0      F   сотрудник     0        253875   \n",
       "1   женат / замужем                 0      F   сотрудник     0        112080   \n",
       "2   женат / замужем                 0      M   сотрудник     0        145885   \n",
       "3   женат / замужем                 0      M   сотрудник     0        267628   \n",
       "4  гражданский брак                 1      F   пенсионер     0        158616   \n",
       "\n",
       "                      purpose      category total_income_categorize  \n",
       "0               покупка жилья  недвижимость                 средний  \n",
       "1     приобретение автомобиля    автомобиль                 средний  \n",
       "2               покупка жилья  недвижимость                 средний  \n",
       "3  дополнительное образование   образование                 средний  \n",
       "4             сыграть свадьбу       свадьба                 средний  "
      ]
     },
     "metadata": {},
     "output_type": "display_data"
    },
    {
     "data": {
      "text/html": [
       "<div>\n",
       "<style scoped>\n",
       "    .dataframe tbody tr th:only-of-type {\n",
       "        vertical-align: middle;\n",
       "    }\n",
       "\n",
       "    .dataframe tbody tr th {\n",
       "        vertical-align: top;\n",
       "    }\n",
       "\n",
       "    .dataframe thead th {\n",
       "        text-align: right;\n",
       "    }\n",
       "</style>\n",
       "<table border=\"1\" class=\"dataframe\">\n",
       "  <thead>\n",
       "    <tr style=\"text-align: right;\">\n",
       "      <th></th>\n",
       "      <th>children</th>\n",
       "      <th>days_employed</th>\n",
       "      <th>dob_years</th>\n",
       "      <th>education</th>\n",
       "      <th>education_id</th>\n",
       "      <th>family_status</th>\n",
       "      <th>family_status_id</th>\n",
       "      <th>gender</th>\n",
       "      <th>income_type</th>\n",
       "      <th>debt</th>\n",
       "      <th>total_income</th>\n",
       "      <th>purpose</th>\n",
       "      <th>category</th>\n",
       "      <th>total_income_categorize</th>\n",
       "      <th>children_categorize</th>\n",
       "    </tr>\n",
       "  </thead>\n",
       "  <tbody>\n",
       "    <tr>\n",
       "      <td>0</td>\n",
       "      <td>1</td>\n",
       "      <td>8437</td>\n",
       "      <td>42</td>\n",
       "      <td>высшее</td>\n",
       "      <td>0</td>\n",
       "      <td>женат / замужем</td>\n",
       "      <td>0</td>\n",
       "      <td>F</td>\n",
       "      <td>сотрудник</td>\n",
       "      <td>0</td>\n",
       "      <td>253875</td>\n",
       "      <td>покупка жилья</td>\n",
       "      <td>недвижимость</td>\n",
       "      <td>средний</td>\n",
       "      <td>обычная семья</td>\n",
       "    </tr>\n",
       "    <tr>\n",
       "      <td>1</td>\n",
       "      <td>1</td>\n",
       "      <td>4024</td>\n",
       "      <td>36</td>\n",
       "      <td>среднее</td>\n",
       "      <td>1</td>\n",
       "      <td>женат / замужем</td>\n",
       "      <td>0</td>\n",
       "      <td>F</td>\n",
       "      <td>сотрудник</td>\n",
       "      <td>0</td>\n",
       "      <td>112080</td>\n",
       "      <td>приобретение автомобиля</td>\n",
       "      <td>автомобиль</td>\n",
       "      <td>средний</td>\n",
       "      <td>обычная семья</td>\n",
       "    </tr>\n",
       "    <tr>\n",
       "      <td>2</td>\n",
       "      <td>0</td>\n",
       "      <td>5623</td>\n",
       "      <td>33</td>\n",
       "      <td>среднее</td>\n",
       "      <td>1</td>\n",
       "      <td>женат / замужем</td>\n",
       "      <td>0</td>\n",
       "      <td>M</td>\n",
       "      <td>сотрудник</td>\n",
       "      <td>0</td>\n",
       "      <td>145885</td>\n",
       "      <td>покупка жилья</td>\n",
       "      <td>недвижимость</td>\n",
       "      <td>средний</td>\n",
       "      <td>бездетная семья</td>\n",
       "    </tr>\n",
       "    <tr>\n",
       "      <td>3</td>\n",
       "      <td>3</td>\n",
       "      <td>4124</td>\n",
       "      <td>32</td>\n",
       "      <td>среднее</td>\n",
       "      <td>1</td>\n",
       "      <td>женат / замужем</td>\n",
       "      <td>0</td>\n",
       "      <td>M</td>\n",
       "      <td>сотрудник</td>\n",
       "      <td>0</td>\n",
       "      <td>267628</td>\n",
       "      <td>дополнительное образование</td>\n",
       "      <td>образование</td>\n",
       "      <td>средний</td>\n",
       "      <td>многодетная семья</td>\n",
       "    </tr>\n",
       "    <tr>\n",
       "      <td>4</td>\n",
       "      <td>0</td>\n",
       "      <td>14177</td>\n",
       "      <td>53</td>\n",
       "      <td>среднее</td>\n",
       "      <td>1</td>\n",
       "      <td>гражданский брак</td>\n",
       "      <td>1</td>\n",
       "      <td>F</td>\n",
       "      <td>пенсионер</td>\n",
       "      <td>0</td>\n",
       "      <td>158616</td>\n",
       "      <td>сыграть свадьбу</td>\n",
       "      <td>свадьба</td>\n",
       "      <td>средний</td>\n",
       "      <td>бездетная семья</td>\n",
       "    </tr>\n",
       "  </tbody>\n",
       "</table>\n",
       "</div>"
      ],
      "text/plain": [
       "   children  days_employed  dob_years education  education_id  \\\n",
       "0         1           8437         42    высшее             0   \n",
       "1         1           4024         36   среднее             1   \n",
       "2         0           5623         33   среднее             1   \n",
       "3         3           4124         32   среднее             1   \n",
       "4         0          14177         53   среднее             1   \n",
       "\n",
       "      family_status  family_status_id gender income_type  debt  total_income  \\\n",
       "0   женат / замужем                 0      F   сотрудник     0        253875   \n",
       "1   женат / замужем                 0      F   сотрудник     0        112080   \n",
       "2   женат / замужем                 0      M   сотрудник     0        145885   \n",
       "3   женат / замужем                 0      M   сотрудник     0        267628   \n",
       "4  гражданский брак                 1      F   пенсионер     0        158616   \n",
       "\n",
       "                      purpose      category total_income_categorize  \\\n",
       "0               покупка жилья  недвижимость                 средний   \n",
       "1     приобретение автомобиля    автомобиль                 средний   \n",
       "2               покупка жилья  недвижимость                 средний   \n",
       "3  дополнительное образование   образование                 средний   \n",
       "4             сыграть свадьбу       свадьба                 средний   \n",
       "\n",
       "  children_categorize  \n",
       "0       обычная семья  \n",
       "1       обычная семья  \n",
       "2     бездетная семья  \n",
       "3   многодетная семья  \n",
       "4     бездетная семья  "
      ]
     },
     "metadata": {},
     "output_type": "display_data"
    }
   ],
   "source": [
    "#проведем категоризацию данных по образованию,для дальнейшего использования , чтобы выяснить влияет ли образование на возврат кредитов\n",
    "education_group = data.groupby('education')['education'].count()\n",
    "display(education_group)\n",
    "#Проведем категоризацию по уровню дохода , для этого создадим функцию\n",
    "def total_income_categorize(total_income):\n",
    "    total_income_median = data['total_income'].median()\n",
    "    if total_income > (total_income_median)*(2):\n",
    "        return 'высокий'\n",
    "    if total_income < (total_income_median) / (2):\n",
    "        return 'низкий'\n",
    "    return 'средний'\n",
    "\n",
    "data['total_income_categorize'] = data['total_income'].apply(total_income_categorize)\n",
    "display(data.head(5))\n",
    "\n",
    "#Сделаем категоризацию по наличию детей в семьях следующим образом(0-бездетные,1-2-обычная семья, 3 и более -многодетная)\n",
    "def children_categorize(children):\n",
    "    if children == 0:\n",
    "        return 'бездетная семья'\n",
    "    if children <=2:\n",
    "        return 'обычная семья'\n",
    "    return 'многодетная семья'\n",
    "\n",
    "data['children_categorize'] = data['children'].apply(children_categorize)\n",
    "display(data.head(5))"
   ]
  },
  {
   "cell_type": "markdown",
   "metadata": {},
   "source": [
    "**Вывод**"
   ]
  },
  {
   "cell_type": "markdown",
   "metadata": {},
   "source": [
    " На основе полученных данных, можно с уверенностью сказать, что чем ниже уровень образования, тем больше берут кредит под различные цели."
   ]
  },
  {
   "cell_type": "code",
   "execution_count": 16,
   "metadata": {},
   "outputs": [
    {
     "data": {
      "text/plain": [
       "средний    18137\n",
       "низкий      1661\n",
       "высокий     1655\n",
       "Name: total_income_categorize, dtype: int64"
      ]
     },
     "execution_count": 16,
     "metadata": {},
     "output_type": "execute_result"
    }
   ],
   "source": [
    "# КОД РЕВЬЮВЕРА\n",
    "\n",
    "data['total_income_categorize'].value_counts()"
   ]
  },
  {
   "cell_type": "markdown",
   "metadata": {},
   "source": [
    "## Шаг 3. Ответьте на вопросы"
   ]
  },
  {
   "cell_type": "markdown",
   "metadata": {},
   "source": [
    "- Есть ли зависимость между наличием детей и возвратом кредита в срок?"
   ]
  },
  {
   "cell_type": "code",
   "execution_count": 17,
   "metadata": {},
   "outputs": [
    {
     "data": {
      "text/html": [
       "<div>\n",
       "<style scoped>\n",
       "    .dataframe tbody tr th:only-of-type {\n",
       "        vertical-align: middle;\n",
       "    }\n",
       "\n",
       "    .dataframe tbody tr th {\n",
       "        vertical-align: top;\n",
       "    }\n",
       "\n",
       "    .dataframe thead th {\n",
       "        text-align: right;\n",
       "    }\n",
       "</style>\n",
       "<table border=\"1\" class=\"dataframe\">\n",
       "  <thead>\n",
       "    <tr style=\"text-align: right;\">\n",
       "      <th></th>\n",
       "      <th>total</th>\n",
       "      <th>debt</th>\n",
       "      <th>%</th>\n",
       "    </tr>\n",
       "    <tr>\n",
       "      <th>children</th>\n",
       "      <th></th>\n",
       "      <th></th>\n",
       "      <th></th>\n",
       "    </tr>\n",
       "  </thead>\n",
       "  <tbody>\n",
       "    <tr>\n",
       "      <td>0</td>\n",
       "      <td>14090</td>\n",
       "      <td>1063</td>\n",
       "      <td>0.075444</td>\n",
       "    </tr>\n",
       "    <tr>\n",
       "      <td>1</td>\n",
       "      <td>4855</td>\n",
       "      <td>445</td>\n",
       "      <td>0.091658</td>\n",
       "    </tr>\n",
       "    <tr>\n",
       "      <td>2</td>\n",
       "      <td>2128</td>\n",
       "      <td>202</td>\n",
       "      <td>0.094925</td>\n",
       "    </tr>\n",
       "    <tr>\n",
       "      <td>3</td>\n",
       "      <td>330</td>\n",
       "      <td>27</td>\n",
       "      <td>0.081818</td>\n",
       "    </tr>\n",
       "    <tr>\n",
       "      <td>4</td>\n",
       "      <td>41</td>\n",
       "      <td>4</td>\n",
       "      <td>0.097561</td>\n",
       "    </tr>\n",
       "    <tr>\n",
       "      <td>5</td>\n",
       "      <td>9</td>\n",
       "      <td>0</td>\n",
       "      <td>0.000000</td>\n",
       "    </tr>\n",
       "  </tbody>\n",
       "</table>\n",
       "</div>"
      ],
      "text/plain": [
       "          total  debt         %\n",
       "children                       \n",
       "0         14090  1063  0.075444\n",
       "1          4855   445  0.091658\n",
       "2          2128   202  0.094925\n",
       "3           330    27  0.081818\n",
       "4            41     4  0.097561\n",
       "5             9     0  0.000000"
      ]
     },
     "execution_count": 17,
     "metadata": {},
     "output_type": "execute_result"
    }
   ],
   "source": [
    "#Сгруппируем данные по кол-ву детей и подсчитаем вероятность не возврата кредита в %\n",
    "children_report = data.groupby('children').agg({'debt' : ['count','sum','mean']})\n",
    "children_report.columns = ['total','debt','%']\n",
    "children_report"
   ]
  },
  {
   "cell_type": "markdown",
   "metadata": {},
   "source": [
    "**Вывод**"
   ]
  },
  {
   "cell_type": "markdown",
   "metadata": {},
   "source": [
    " Проанализировав полученные данные можно сделать вывод, что чем больше детей у заемщика, тем больше вероятность не возврата кредита.Хотя если посмотреть на семьи с 5ю детьми, то там 100% вероятность возврата, но думаю, это скорее из-за недостатка данных. "
   ]
  },
  {
   "cell_type": "code",
   "execution_count": 18,
   "metadata": {},
   "outputs": [
    {
     "data": {
      "text/plain": [
       "children_categorize\n",
       "бездетная семья      0.075444\n",
       "многодетная семья    0.081579\n",
       "обычная семья        0.092654\n",
       "Name: debt, dtype: float64"
      ]
     },
     "execution_count": 18,
     "metadata": {},
     "output_type": "execute_result"
    }
   ],
   "source": [
    "# КОД РЕВЬЮВЕРА\n",
    "\n",
    "data.groupby('children_categorize')['debt'].mean()\n",
    "\n",
    "# видим, что наличие детей в любом случае повышает риск, однако если изучить кол-во, то видно, что малодетные семьи более рисковые,\n",
    "# нежели многодетные"
   ]
  },
  {
   "cell_type": "markdown",
   "metadata": {},
   "source": [
    "- Есть ли зависимость между семейным положением и возвратом кредита в срок?"
   ]
  },
  {
   "cell_type": "code",
   "execution_count": 10,
   "metadata": {},
   "outputs": [
    {
     "data": {
      "text/html": [
       "<div>\n",
       "<style scoped>\n",
       "    .dataframe tbody tr th:only-of-type {\n",
       "        vertical-align: middle;\n",
       "    }\n",
       "\n",
       "    .dataframe tbody tr th {\n",
       "        vertical-align: top;\n",
       "    }\n",
       "\n",
       "    .dataframe thead th {\n",
       "        text-align: right;\n",
       "    }\n",
       "</style>\n",
       "<table border=\"1\" class=\"dataframe\">\n",
       "  <thead>\n",
       "    <tr style=\"text-align: right;\">\n",
       "      <th></th>\n",
       "      <th>total</th>\n",
       "      <th>debt</th>\n",
       "      <th>%</th>\n",
       "    </tr>\n",
       "    <tr>\n",
       "      <th>family_status</th>\n",
       "      <th></th>\n",
       "      <th></th>\n",
       "      <th></th>\n",
       "    </tr>\n",
       "  </thead>\n",
       "  <tbody>\n",
       "    <tr>\n",
       "      <td>Не женат / не замужем</td>\n",
       "      <td>2810</td>\n",
       "      <td>274</td>\n",
       "      <td>0.097509</td>\n",
       "    </tr>\n",
       "    <tr>\n",
       "      <td>в разводе</td>\n",
       "      <td>1195</td>\n",
       "      <td>85</td>\n",
       "      <td>0.071130</td>\n",
       "    </tr>\n",
       "    <tr>\n",
       "      <td>вдовец / вдова</td>\n",
       "      <td>959</td>\n",
       "      <td>63</td>\n",
       "      <td>0.065693</td>\n",
       "    </tr>\n",
       "    <tr>\n",
       "      <td>гражданский брак</td>\n",
       "      <td>4151</td>\n",
       "      <td>388</td>\n",
       "      <td>0.093471</td>\n",
       "    </tr>\n",
       "    <tr>\n",
       "      <td>женат / замужем</td>\n",
       "      <td>12339</td>\n",
       "      <td>931</td>\n",
       "      <td>0.075452</td>\n",
       "    </tr>\n",
       "  </tbody>\n",
       "</table>\n",
       "</div>"
      ],
      "text/plain": [
       "                       total  debt         %\n",
       "family_status                               \n",
       "Не женат / не замужем   2810   274  0.097509\n",
       "в разводе               1195    85  0.071130\n",
       "вдовец / вдова           959    63  0.065693\n",
       "гражданский брак        4151   388  0.093471\n",
       "женат / замужем        12339   931  0.075452"
      ]
     },
     "execution_count": 10,
     "metadata": {},
     "output_type": "execute_result"
    }
   ],
   "source": [
    "#сгруппируем данные по семейному положению и подсчитаем вероятность невозврата кредита\n",
    "family_status_report = data.groupby('family_status').agg({'debt' : ['count','sum','mean']})\n",
    "family_status_report.columns = ['total','debt','%']\n",
    "family_status_report"
   ]
  },
  {
   "cell_type": "markdown",
   "metadata": {},
   "source": [
    "**Вывод**"
   ]
  },
  {
   "cell_type": "markdown",
   "metadata": {},
   "source": [
    " Самая малая вероятность не возврата кредита у группы *вдовец/вдова* (может быть из-за того, что один из супругов был застрахован и являлся созаемщиком), самая большая вероятность не возврата кредита у группы *не женат/не замужем* и *гражданский брак* , т.е у холостых людей."
   ]
  },
  {
   "cell_type": "markdown",
   "metadata": {},
   "source": [
    "- Есть ли зависимость между уровнем дохода и возвратом кредита в срок?"
   ]
  },
  {
   "cell_type": "code",
   "execution_count": 11,
   "metadata": {},
   "outputs": [
    {
     "data": {
      "text/html": [
       "<div>\n",
       "<style scoped>\n",
       "    .dataframe tbody tr th:only-of-type {\n",
       "        vertical-align: middle;\n",
       "    }\n",
       "\n",
       "    .dataframe tbody tr th {\n",
       "        vertical-align: top;\n",
       "    }\n",
       "\n",
       "    .dataframe thead th {\n",
       "        text-align: right;\n",
       "    }\n",
       "</style>\n",
       "<table border=\"1\" class=\"dataframe\">\n",
       "  <thead>\n",
       "    <tr style=\"text-align: right;\">\n",
       "      <th></th>\n",
       "      <th>total</th>\n",
       "      <th>debt</th>\n",
       "      <th>%</th>\n",
       "    </tr>\n",
       "    <tr>\n",
       "      <th>total_income_categorize</th>\n",
       "      <th></th>\n",
       "      <th></th>\n",
       "      <th></th>\n",
       "    </tr>\n",
       "  </thead>\n",
       "  <tbody>\n",
       "    <tr>\n",
       "      <td>высокий</td>\n",
       "      <td>1655</td>\n",
       "      <td>120</td>\n",
       "      <td>0.072508</td>\n",
       "    </tr>\n",
       "    <tr>\n",
       "      <td>низкий</td>\n",
       "      <td>1661</td>\n",
       "      <td>115</td>\n",
       "      <td>0.069235</td>\n",
       "    </tr>\n",
       "    <tr>\n",
       "      <td>средний</td>\n",
       "      <td>18138</td>\n",
       "      <td>1506</td>\n",
       "      <td>0.083030</td>\n",
       "    </tr>\n",
       "  </tbody>\n",
       "</table>\n",
       "</div>"
      ],
      "text/plain": [
       "                         total  debt         %\n",
       "total_income_categorize                       \n",
       "высокий                   1655   120  0.072508\n",
       "низкий                    1661   115  0.069235\n",
       "средний                  18138  1506  0.083030"
      ]
     },
     "execution_count": 11,
     "metadata": {},
     "output_type": "execute_result"
    }
   ],
   "source": [
    "#используя значения из категоризации по уровню заработка посчитаем зависимость\n",
    "result_total_income = data.groupby('total_income_categorize').agg({'debt': ['count', 'sum', 'mean']})\n",
    "result_total_income.columns = ['total', 'debt', '%']\n",
    "result_total_income"
   ]
  },
  {
   "cell_type": "markdown",
   "metadata": {},
   "source": [
    "**Вывод**"
   ]
  },
  {
   "cell_type": "markdown",
   "metadata": {},
   "source": [
    " Из полученных данных видим, что самый низкий процент невозврата кредита у категории людей с низким уровнем заработка, а самый высокий процент со средним уровнем заработка."
   ]
  },
  {
   "cell_type": "markdown",
   "metadata": {},
   "source": [
    "- Как разные цели кредита влияют на его возврат в срок?"
   ]
  },
  {
   "cell_type": "code",
   "execution_count": 12,
   "metadata": {},
   "outputs": [
    {
     "data": {
      "text/html": [
       "<div>\n",
       "<style scoped>\n",
       "    .dataframe tbody tr th:only-of-type {\n",
       "        vertical-align: middle;\n",
       "    }\n",
       "\n",
       "    .dataframe tbody tr th {\n",
       "        vertical-align: top;\n",
       "    }\n",
       "\n",
       "    .dataframe thead th {\n",
       "        text-align: right;\n",
       "    }\n",
       "</style>\n",
       "<table border=\"1\" class=\"dataframe\">\n",
       "  <thead>\n",
       "    <tr style=\"text-align: right;\">\n",
       "      <th></th>\n",
       "      <th>total</th>\n",
       "      <th>debt</th>\n",
       "      <th>%</th>\n",
       "    </tr>\n",
       "    <tr>\n",
       "      <th>category</th>\n",
       "      <th></th>\n",
       "      <th></th>\n",
       "      <th></th>\n",
       "    </tr>\n",
       "  </thead>\n",
       "  <tbody>\n",
       "    <tr>\n",
       "      <td>автомобиль</td>\n",
       "      <td>4306</td>\n",
       "      <td>403</td>\n",
       "      <td>0.093590</td>\n",
       "    </tr>\n",
       "    <tr>\n",
       "      <td>недвижимость</td>\n",
       "      <td>10811</td>\n",
       "      <td>782</td>\n",
       "      <td>0.072334</td>\n",
       "    </tr>\n",
       "    <tr>\n",
       "      <td>образование</td>\n",
       "      <td>4013</td>\n",
       "      <td>370</td>\n",
       "      <td>0.092200</td>\n",
       "    </tr>\n",
       "    <tr>\n",
       "      <td>свадьба</td>\n",
       "      <td>2324</td>\n",
       "      <td>186</td>\n",
       "      <td>0.080034</td>\n",
       "    </tr>\n",
       "  </tbody>\n",
       "</table>\n",
       "</div>"
      ],
      "text/plain": [
       "              total  debt         %\n",
       "category                           \n",
       "автомобиль     4306   403  0.093590\n",
       "недвижимость  10811   782  0.072334\n",
       "образование    4013   370  0.092200\n",
       "свадьба        2324   186  0.080034"
      ]
     },
     "execution_count": 12,
     "metadata": {},
     "output_type": "execute_result"
    }
   ],
   "source": [
    "result_purpose = data.groupby('category').agg({'debt': ['count', 'sum', 'mean']})\n",
    "result_purpose.columns = ['total', 'debt', '%']\n",
    "result_purpose"
   ]
  },
  {
   "cell_type": "markdown",
   "metadata": {},
   "source": [
    "**Вывод**"
   ]
  },
  {
   "cell_type": "markdown",
   "metadata": {},
   "source": [
    " Самая высокая вероятность невозврата кредита возникает, когда люди берут его на покупку автомобиля и образование, самая низкая на операции с недвижимостью."
   ]
  },
  {
   "cell_type": "markdown",
   "metadata": {},
   "source": [
    "## Шаг 4. Общий вывод"
   ]
  },
  {
   "cell_type": "markdown",
   "metadata": {},
   "source": [
    " На основе работы с полученными данными можно сделать вывод, что самыми нежелательными клиентами по выдаче кредита у банка должны быть люди одинокие(не замужем/ не женат), если кредит будет браться на приобретение автомобиля и людей с большим количество детей. Может быть именно поэтому банки стали страховаться от не возврата кредита предлагая различного рода допы(страховка, крдеит под залог имущества, наличие созаемщика), а может просто это у них работа такая! ))).А вот кому действительно стоит выдавать кредит так это людям со средним уровнем заработка(опять же в рамках проекта),людям состоящим в зарегистрированном браке и либо с 1 ребенком либо вообще без детей."
   ]
  },
  {
   "cell_type": "markdown",
   "metadata": {},
   "source": [
    "## Чек-лист готовности проекта\n",
    "\n",
    "Поставьте 'x' в выполненных пунктах. Далее нажмите Shift+Enter."
   ]
  },
  {
   "cell_type": "markdown",
   "metadata": {},
   "source": [
    "- [x]  открыт файл;\n",
    "- [x]  файл изучен;\n",
    "- [x]  определены пропущенные значения;\n",
    "- [x]  заполнены пропущенные значения;\n",
    "- [x]  есть пояснение, какие пропущенные значения обнаружены;\n",
    "- [x]  описаны возможные причины появления пропусков в данных;\n",
    "- [x]  объяснено, по какому принципу заполнены пропуски;\n",
    "- [x]  заменен вещественный тип данных на целочисленный;\n",
    "- [x]  есть пояснение, какой метод используется для изменения типа данных и почему;\n",
    "- [x]  удалены дубликаты;\n",
    "- [x]  есть пояснение, какой метод используется для поиска и удаления дубликатов;\n",
    "- [x]  описаны возможные причины появления дубликатов в данных;\n",
    "- [x]  выделены леммы в значениях столбца с целями получения кредита;\n",
    "- [x]  описан процесс лемматизации;\n",
    "- [x]  данные категоризированы;\n",
    "- [x]  есть объяснение принципа категоризации данных;\n",
    "- [x]  есть ответ на вопрос: \"Есть ли зависимость между наличием детей и возвратом кредита в срок?\";\n",
    "- [x]  есть ответ на вопрос: \"Есть ли зависимость между семейным положением и возвратом кредита в срок?\";\n",
    "- [x]  есть ответ на вопрос: \"Есть ли зависимость между уровнем дохода и возвратом кредита в срок?\";\n",
    "- [x]  есть ответ на вопрос: \"Как разные цели кредита влияют на его возврат в срок?\";\n",
    "- [x]  в каждом этапе есть выводы;\n",
    "- [x]  есть общий вывод."
   ]
  },
  {
   "cell_type": "code",
   "execution_count": null,
   "metadata": {},
   "outputs": [],
   "source": []
  }
 ],
 "metadata": {
  "ExecuteTimeLog": [
   {
    "duration": 871,
    "start_time": "2021-12-17T07:53:01.464Z"
   },
   {
    "duration": 92,
    "start_time": "2021-12-17T07:57:14.150Z"
   },
   {
    "duration": 645,
    "start_time": "2021-12-20T07:24:52.461Z"
   },
   {
    "duration": 3,
    "start_time": "2021-12-20T07:24:53.108Z"
   },
   {
    "duration": 7,
    "start_time": "2021-12-20T07:28:58.329Z"
   },
   {
    "duration": 4517,
    "start_time": "2021-12-20T07:32:58.361Z"
   },
   {
    "duration": 4887,
    "start_time": "2021-12-20T07:33:31.512Z"
   },
   {
    "duration": 435,
    "start_time": "2021-12-20T13:18:29.151Z"
   },
   {
    "duration": 870,
    "start_time": "2021-12-20T13:18:39.412Z"
   },
   {
    "duration": 7,
    "start_time": "2021-12-20T13:18:40.285Z"
   },
   {
    "duration": 8,
    "start_time": "2021-12-20T13:20:36.753Z"
   },
   {
    "duration": 102,
    "start_time": "2021-12-20T13:21:17.968Z"
   },
   {
    "duration": 238,
    "start_time": "2021-12-20T13:21:39.358Z"
   },
   {
    "duration": 103,
    "start_time": "2021-12-20T13:22:08.395Z"
   },
   {
    "duration": 8,
    "start_time": "2021-12-20T13:22:23.023Z"
   },
   {
    "duration": 8,
    "start_time": "2021-12-20T13:27:50.117Z"
   },
   {
    "duration": 13,
    "start_time": "2021-12-20T13:32:05.936Z"
   },
   {
    "duration": 19,
    "start_time": "2021-12-20T13:36:30.711Z"
   },
   {
    "duration": 18,
    "start_time": "2021-12-20T13:38:08.949Z"
   },
   {
    "duration": 94,
    "start_time": "2021-12-20T13:50:09.455Z"
   },
   {
    "duration": 115,
    "start_time": "2021-12-20T13:50:18.861Z"
   },
   {
    "duration": 93,
    "start_time": "2021-12-20T13:52:16.774Z"
   },
   {
    "duration": 97,
    "start_time": "2021-12-20T13:52:28.660Z"
   },
   {
    "duration": 97,
    "start_time": "2021-12-20T13:52:33.196Z"
   },
   {
    "duration": 88,
    "start_time": "2021-12-20T13:53:48.794Z"
   },
   {
    "duration": 404,
    "start_time": "2021-12-20T13:54:01.500Z"
   },
   {
    "duration": 20,
    "start_time": "2021-12-20T13:56:46.948Z"
   },
   {
    "duration": 687,
    "start_time": "2021-12-20T13:59:45.075Z"
   },
   {
    "duration": 356,
    "start_time": "2021-12-20T14:00:04.138Z"
   },
   {
    "duration": 21,
    "start_time": "2021-12-20T14:01:51.379Z"
   },
   {
    "duration": 25,
    "start_time": "2021-12-20T14:02:32.083Z"
   },
   {
    "duration": 24,
    "start_time": "2021-12-20T14:03:03.099Z"
   },
   {
    "duration": 724,
    "start_time": "2021-12-20T14:03:20.679Z"
   },
   {
    "duration": 28,
    "start_time": "2021-12-20T14:03:23.444Z"
   },
   {
    "duration": 855,
    "start_time": "2021-12-20T15:26:18.511Z"
   },
   {
    "duration": 23,
    "start_time": "2021-12-20T15:26:19.369Z"
   },
   {
    "duration": 254,
    "start_time": "2021-12-20T15:34:04.075Z"
   },
   {
    "duration": 28,
    "start_time": "2021-12-20T15:34:12.998Z"
   },
   {
    "duration": 34,
    "start_time": "2021-12-20T15:34:31.614Z"
   },
   {
    "duration": 45,
    "start_time": "2021-12-20T15:39:01.281Z"
   },
   {
    "duration": 55,
    "start_time": "2021-12-20T15:52:51.364Z"
   },
   {
    "duration": 1109,
    "start_time": "2021-12-20T15:53:45.730Z"
   },
   {
    "duration": 82,
    "start_time": "2021-12-20T15:53:46.842Z"
   },
   {
    "duration": 682,
    "start_time": "2021-12-21T13:37:25.126Z"
   },
   {
    "duration": 32,
    "start_time": "2021-12-21T13:37:25.811Z"
   },
   {
    "duration": 9156,
    "start_time": "2021-12-21T13:56:15.582Z"
   },
   {
    "duration": 8842,
    "start_time": "2021-12-21T14:00:00.846Z"
   },
   {
    "duration": 718,
    "start_time": "2021-12-21T14:00:35.287Z"
   },
   {
    "duration": 34,
    "start_time": "2021-12-21T14:00:36.007Z"
   },
   {
    "duration": 9744,
    "start_time": "2021-12-21T14:00:36.044Z"
   },
   {
    "duration": 682,
    "start_time": "2021-12-21T14:19:33.632Z"
   },
   {
    "duration": 34,
    "start_time": "2021-12-21T14:19:34.317Z"
   },
   {
    "duration": 9160,
    "start_time": "2021-12-21T14:19:34.353Z"
   },
   {
    "duration": 34,
    "start_time": "2021-12-21T14:20:50.344Z"
   },
   {
    "duration": 36,
    "start_time": "2021-12-21T14:21:11.489Z"
   },
   {
    "duration": 688,
    "start_time": "2021-12-21T14:21:31.162Z"
   },
   {
    "duration": 36,
    "start_time": "2021-12-21T14:21:31.852Z"
   },
   {
    "duration": 10046,
    "start_time": "2021-12-21T14:21:31.890Z"
   },
   {
    "duration": 37,
    "start_time": "2021-12-21T14:24:04.626Z"
   },
   {
    "duration": 652,
    "start_time": "2021-12-21T14:24:12.157Z"
   },
   {
    "duration": 37,
    "start_time": "2021-12-21T14:24:12.811Z"
   },
   {
    "duration": 9701,
    "start_time": "2021-12-21T14:24:12.850Z"
   },
   {
    "duration": 401,
    "start_time": "2021-12-21T14:25:36.543Z"
   },
   {
    "duration": 10785,
    "start_time": "2021-12-21T14:29:11.240Z"
   },
   {
    "duration": 9436,
    "start_time": "2021-12-21T14:31:46.017Z"
   },
   {
    "duration": 9786,
    "start_time": "2021-12-21T14:32:38.174Z"
   },
   {
    "duration": 4,
    "start_time": "2021-12-21T15:09:50.439Z"
   },
   {
    "duration": 4,
    "start_time": "2021-12-21T15:10:31.567Z"
   },
   {
    "duration": 6,
    "start_time": "2021-12-21T15:12:41.821Z"
   },
   {
    "duration": 748,
    "start_time": "2021-12-21T15:18:24.480Z"
   },
   {
    "duration": 38,
    "start_time": "2021-12-21T15:18:25.230Z"
   },
   {
    "duration": 12,
    "start_time": "2021-12-21T15:18:25.270Z"
   },
   {
    "duration": 1061,
    "start_time": "2021-12-22T12:31:36.767Z"
   },
   {
    "duration": 77,
    "start_time": "2021-12-22T12:31:37.831Z"
   },
   {
    "duration": 19,
    "start_time": "2021-12-22T12:31:37.911Z"
   },
   {
    "duration": 903,
    "start_time": "2021-12-22T12:41:51.943Z"
   },
   {
    "duration": 67,
    "start_time": "2021-12-22T12:41:52.849Z"
   },
   {
    "duration": 19,
    "start_time": "2021-12-22T12:41:52.919Z"
   },
   {
    "duration": 27,
    "start_time": "2021-12-22T12:45:30.654Z"
   },
   {
    "duration": 486,
    "start_time": "2021-12-22T12:49:19.982Z"
   },
   {
    "duration": 80,
    "start_time": "2021-12-22T12:50:38.631Z"
   },
   {
    "duration": 65,
    "start_time": "2021-12-22T13:05:32.502Z"
   },
   {
    "duration": 876,
    "start_time": "2021-12-22T13:11:40.929Z"
   },
   {
    "duration": 64,
    "start_time": "2021-12-22T13:11:41.808Z"
   },
   {
    "duration": 19,
    "start_time": "2021-12-22T13:11:41.875Z"
   },
   {
    "duration": 100,
    "start_time": "2021-12-22T13:11:41.897Z"
   },
   {
    "duration": 115,
    "start_time": "2021-12-22T13:12:21.263Z"
   },
   {
    "duration": 100,
    "start_time": "2021-12-22T13:22:53.551Z"
   },
   {
    "duration": 160,
    "start_time": "2021-12-22T13:35:39.123Z"
   },
   {
    "duration": 102,
    "start_time": "2021-12-22T13:54:38.806Z"
   },
   {
    "duration": 401,
    "start_time": "2021-12-22T14:07:50.265Z"
   },
   {
    "duration": 297,
    "start_time": "2021-12-22T14:08:16.015Z"
   },
   {
    "duration": 338,
    "start_time": "2021-12-22T14:13:58.655Z"
   },
   {
    "duration": 852,
    "start_time": "2021-12-22T14:23:32.633Z"
   },
   {
    "duration": 55,
    "start_time": "2021-12-22T14:23:33.488Z"
   },
   {
    "duration": 26,
    "start_time": "2021-12-22T14:23:33.562Z"
   },
   {
    "duration": 154,
    "start_time": "2021-12-22T14:23:33.591Z"
   },
   {
    "duration": 386,
    "start_time": "2021-12-22T14:23:33.748Z"
   },
   {
    "duration": 301,
    "start_time": "2021-12-22T14:31:52.220Z"
   },
   {
    "duration": 308,
    "start_time": "2021-12-22T14:32:17.603Z"
   },
   {
    "duration": 320,
    "start_time": "2021-12-22T14:32:43.764Z"
   },
   {
    "duration": 283,
    "start_time": "2021-12-22T14:34:35.213Z"
   },
   {
    "duration": 295,
    "start_time": "2021-12-22T14:34:58.747Z"
   },
   {
    "duration": 6,
    "start_time": "2021-12-22T14:36:10.989Z"
   },
   {
    "duration": 8,
    "start_time": "2021-12-22T14:41:07.563Z"
   },
   {
    "duration": 4893,
    "start_time": "2021-12-22T15:01:35.950Z"
   },
   {
    "duration": 3804,
    "start_time": "2021-12-22T15:01:59.445Z"
   },
   {
    "duration": 7,
    "start_time": "2021-12-22T15:25:48.059Z"
   },
   {
    "duration": 25,
    "start_time": "2021-12-22T15:29:55.053Z"
   },
   {
    "duration": 14,
    "start_time": "2021-12-22T15:30:39.698Z"
   },
   {
    "duration": 814,
    "start_time": "2021-12-23T02:21:41.220Z"
   },
   {
    "duration": 63,
    "start_time": "2021-12-23T02:21:42.036Z"
   },
   {
    "duration": 17,
    "start_time": "2021-12-23T02:21:42.102Z"
   },
   {
    "duration": 165,
    "start_time": "2021-12-23T02:21:42.122Z"
   },
   {
    "duration": 1730,
    "start_time": "2021-12-23T02:21:42.289Z"
   },
   {
    "duration": -88,
    "start_time": "2021-12-23T02:21:44.110Z"
   },
   {
    "duration": 4627,
    "start_time": "2021-12-23T02:25:17.836Z"
   },
   {
    "duration": 19,
    "start_time": "2021-12-23T02:26:10.392Z"
   },
   {
    "duration": 9,
    "start_time": "2021-12-23T02:26:41.063Z"
   },
   {
    "duration": 9,
    "start_time": "2021-12-23T02:44:59.787Z"
   },
   {
    "duration": 8,
    "start_time": "2021-12-23T02:45:36.354Z"
   },
   {
    "duration": 13,
    "start_time": "2021-12-23T02:48:08.589Z"
   },
   {
    "duration": 8,
    "start_time": "2021-12-23T02:48:48.420Z"
   },
   {
    "duration": 9,
    "start_time": "2021-12-23T02:53:47.144Z"
   },
   {
    "duration": 854,
    "start_time": "2021-12-23T03:00:22.859Z"
   },
   {
    "duration": 66,
    "start_time": "2021-12-23T03:00:23.716Z"
   },
   {
    "duration": 19,
    "start_time": "2021-12-23T03:00:23.785Z"
   },
   {
    "duration": 170,
    "start_time": "2021-12-23T03:00:23.807Z"
   },
   {
    "duration": 4408,
    "start_time": "2021-12-23T03:00:23.979Z"
   },
   {
    "duration": 15,
    "start_time": "2021-12-23T03:00:28.390Z"
   },
   {
    "duration": 7,
    "start_time": "2021-12-23T03:00:28.407Z"
   },
   {
    "duration": 19,
    "start_time": "2021-12-23T04:10:21.883Z"
   },
   {
    "duration": 19,
    "start_time": "2021-12-23T06:54:48.753Z"
   },
   {
    "duration": 1973,
    "start_time": "2021-12-23T07:18:31.296Z"
   },
   {
    "duration": 15212,
    "start_time": "2021-12-23T07:20:48.263Z"
   },
   {
    "duration": 102,
    "start_time": "2021-12-23T07:25:29.683Z"
   },
   {
    "duration": 94,
    "start_time": "2021-12-23T07:26:09.787Z"
   },
   {
    "duration": 97,
    "start_time": "2021-12-23T07:26:21.861Z"
   },
   {
    "duration": 1481,
    "start_time": "2021-12-23T07:26:42.852Z"
   },
   {
    "duration": 15423,
    "start_time": "2021-12-23T07:27:16.892Z"
   },
   {
    "duration": 15469,
    "start_time": "2021-12-23T07:28:11.524Z"
   },
   {
    "duration": 19,
    "start_time": "2021-12-23T07:33:32.205Z"
   },
   {
    "duration": 416,
    "start_time": "2021-12-23T07:42:29.833Z"
   },
   {
    "duration": 20,
    "start_time": "2021-12-23T07:43:41.724Z"
   },
   {
    "duration": 117,
    "start_time": "2021-12-23T17:43:17.065Z"
   },
   {
    "duration": 909,
    "start_time": "2021-12-23T17:53:46.212Z"
   },
   {
    "duration": 69,
    "start_time": "2021-12-23T17:53:47.124Z"
   },
   {
    "duration": 18,
    "start_time": "2021-12-23T17:53:47.197Z"
   },
   {
    "duration": 210,
    "start_time": "2021-12-23T17:53:47.218Z"
   },
   {
    "duration": 5755,
    "start_time": "2021-12-23T17:53:47.431Z"
   },
   {
    "duration": 17389,
    "start_time": "2021-12-23T17:53:53.189Z"
   },
   {
    "duration": 13,
    "start_time": "2021-12-23T17:54:10.581Z"
   },
   {
    "duration": 419,
    "start_time": "2021-12-24T03:44:17.852Z"
   },
   {
    "duration": 855,
    "start_time": "2021-12-24T03:44:29.414Z"
   },
   {
    "duration": 53,
    "start_time": "2021-12-24T03:44:30.272Z"
   },
   {
    "duration": 43,
    "start_time": "2021-12-24T03:44:30.328Z"
   },
   {
    "duration": 186,
    "start_time": "2021-12-24T03:44:30.375Z"
   },
   {
    "duration": 4717,
    "start_time": "2021-12-24T03:44:30.563Z"
   },
   {
    "duration": 14929,
    "start_time": "2021-12-24T03:44:35.282Z"
   },
   {
    "duration": 9,
    "start_time": "2021-12-24T03:44:50.214Z"
   },
   {
    "duration": 47,
    "start_time": "2021-12-24T03:44:50.226Z"
   },
   {
    "duration": 19,
    "start_time": "2021-12-24T03:44:50.275Z"
   },
   {
    "duration": 18,
    "start_time": "2021-12-24T03:44:50.296Z"
   },
   {
    "duration": 47,
    "start_time": "2021-12-24T03:44:50.316Z"
   },
   {
    "duration": 690,
    "start_time": "2021-12-24T07:11:17.996Z"
   },
   {
    "duration": 36,
    "start_time": "2021-12-24T07:11:18.688Z"
   },
   {
    "duration": 12,
    "start_time": "2021-12-24T07:11:18.726Z"
   },
   {
    "duration": 101,
    "start_time": "2021-12-24T07:11:18.761Z"
   },
   {
    "duration": 3718,
    "start_time": "2021-12-24T07:11:18.864Z"
   },
   {
    "duration": 12978,
    "start_time": "2021-12-24T07:11:22.584Z"
   },
   {
    "duration": 8,
    "start_time": "2021-12-24T07:11:35.564Z"
   },
   {
    "duration": 33,
    "start_time": "2021-12-24T07:11:35.575Z"
   },
   {
    "duration": 14,
    "start_time": "2021-12-24T07:11:35.610Z"
   },
   {
    "duration": 18,
    "start_time": "2021-12-24T07:11:35.626Z"
   },
   {
    "duration": 28,
    "start_time": "2021-12-24T07:11:35.646Z"
   },
   {
    "duration": 38,
    "start_time": "2021-12-24T07:35:08.464Z"
   },
   {
    "duration": 798,
    "start_time": "2021-12-24T07:35:21.308Z"
   },
   {
    "duration": 35,
    "start_time": "2021-12-24T07:35:22.108Z"
   },
   {
    "duration": 28,
    "start_time": "2021-12-24T07:35:22.145Z"
   },
   {
    "duration": 103,
    "start_time": "2021-12-24T07:35:22.174Z"
   },
   {
    "duration": 3773,
    "start_time": "2021-12-24T07:35:22.278Z"
   },
   {
    "duration": 11081,
    "start_time": "2021-12-24T07:35:26.061Z"
   },
   {
    "duration": 6,
    "start_time": "2021-12-24T07:35:37.144Z"
   },
   {
    "duration": 19,
    "start_time": "2021-12-24T07:35:37.161Z"
   },
   {
    "duration": 13,
    "start_time": "2021-12-24T07:35:37.182Z"
   },
   {
    "duration": 12,
    "start_time": "2021-12-24T07:35:37.197Z"
   },
   {
    "duration": 11,
    "start_time": "2021-12-24T07:35:37.211Z"
   },
   {
    "duration": 16,
    "start_time": "2021-12-24T07:55:52.363Z"
   },
   {
    "duration": 4,
    "start_time": "2021-12-24T08:04:52.577Z"
   },
   {
    "duration": 5,
    "start_time": "2021-12-24T08:05:45.848Z"
   },
   {
    "duration": 5,
    "start_time": "2021-12-24T08:06:10.394Z"
   },
   {
    "duration": 80,
    "start_time": "2021-12-24T08:46:39.089Z"
   },
   {
    "duration": 325,
    "start_time": "2021-12-24T08:46:49.299Z"
   },
   {
    "duration": 277,
    "start_time": "2021-12-24T08:46:57.131Z"
   },
   {
    "duration": 16,
    "start_time": "2021-12-24T08:47:10.804Z"
   },
   {
    "duration": 9,
    "start_time": "2021-12-24T08:47:34.152Z"
   },
   {
    "duration": 9,
    "start_time": "2021-12-24T08:53:27.532Z"
   },
   {
    "duration": 14,
    "start_time": "2021-12-24T08:56:27.504Z"
   },
   {
    "duration": 6377,
    "start_time": "2021-12-24T08:59:05.801Z"
   },
   {
    "duration": 10,
    "start_time": "2021-12-24T08:59:25.786Z"
   },
   {
    "duration": 9,
    "start_time": "2021-12-24T09:00:31.646Z"
   },
   {
    "duration": 20,
    "start_time": "2021-12-24T09:01:17.838Z"
   },
   {
    "duration": 11,
    "start_time": "2021-12-24T09:01:32.222Z"
   },
   {
    "duration": 601,
    "start_time": "2021-12-24T09:08:30.709Z"
   },
   {
    "duration": 468,
    "start_time": "2021-12-24T09:13:09.204Z"
   },
   {
    "duration": 262,
    "start_time": "2021-12-24T09:18:57.120Z"
   },
   {
    "duration": 12,
    "start_time": "2021-12-24T09:19:18.384Z"
   },
   {
    "duration": 298,
    "start_time": "2021-12-24T09:20:13.934Z"
   },
   {
    "duration": 13,
    "start_time": "2021-12-24T09:21:09.464Z"
   },
   {
    "duration": 13,
    "start_time": "2021-12-24T09:21:42.406Z"
   },
   {
    "duration": 12,
    "start_time": "2021-12-24T09:25:09.364Z"
   },
   {
    "duration": 265,
    "start_time": "2021-12-24T09:26:08.122Z"
   },
   {
    "duration": 304,
    "start_time": "2021-12-24T09:27:12.312Z"
   },
   {
    "duration": 261,
    "start_time": "2021-12-24T09:30:16.062Z"
   },
   {
    "duration": 674,
    "start_time": "2021-12-24T13:53:12.564Z"
   },
   {
    "duration": 37,
    "start_time": "2021-12-24T13:53:13.249Z"
   },
   {
    "duration": 1633,
    "start_time": "2021-12-24T13:53:13.289Z"
   },
   {
    "duration": -74354,
    "start_time": "2021-12-24T13:54:29.278Z"
   },
   {
    "duration": -74358,
    "start_time": "2021-12-24T13:54:29.283Z"
   },
   {
    "duration": -74368,
    "start_time": "2021-12-24T13:54:29.294Z"
   },
   {
    "duration": -74383,
    "start_time": "2021-12-24T13:54:29.310Z"
   },
   {
    "duration": -74401,
    "start_time": "2021-12-24T13:54:29.329Z"
   },
   {
    "duration": -74424,
    "start_time": "2021-12-24T13:54:29.353Z"
   },
   {
    "duration": -74439,
    "start_time": "2021-12-24T13:54:29.369Z"
   },
   {
    "duration": -74455,
    "start_time": "2021-12-24T13:54:29.386Z"
   },
   {
    "duration": -74472,
    "start_time": "2021-12-24T13:54:29.404Z"
   },
   {
    "duration": 1124,
    "start_time": "2021-12-24T13:59:45.100Z"
   },
   {
    "duration": 101,
    "start_time": "2021-12-24T14:08:29.507Z"
   },
   {
    "duration": 1280,
    "start_time": "2021-12-24T14:11:07.907Z"
   },
   {
    "duration": 105,
    "start_time": "2021-12-24T14:12:16.666Z"
   },
   {
    "duration": 358,
    "start_time": "2021-12-24T14:12:34.380Z"
   },
   {
    "duration": 256,
    "start_time": "2021-12-24T14:13:16.577Z"
   },
   {
    "duration": 17,
    "start_time": "2021-12-24T14:13:59.667Z"
   },
   {
    "duration": 17,
    "start_time": "2021-12-24T14:14:45.376Z"
   },
   {
    "duration": 303,
    "start_time": "2021-12-24T14:28:37.211Z"
   },
   {
    "duration": 327,
    "start_time": "2021-12-24T14:32:35.022Z"
   },
   {
    "duration": 83,
    "start_time": "2021-12-24T14:37:54.369Z"
   },
   {
    "duration": 266,
    "start_time": "2021-12-24T14:38:05.140Z"
   },
   {
    "duration": 265,
    "start_time": "2021-12-24T14:39:55.391Z"
   },
   {
    "duration": 26,
    "start_time": "2021-12-24T14:40:12.963Z"
   },
   {
    "duration": 278,
    "start_time": "2021-12-24T14:43:23.562Z"
   },
   {
    "duration": 280,
    "start_time": "2021-12-24T14:44:40.325Z"
   },
   {
    "duration": 20,
    "start_time": "2021-12-24T14:45:00.509Z"
   },
   {
    "duration": 19,
    "start_time": "2021-12-24T14:48:00.802Z"
   },
   {
    "duration": 654,
    "start_time": "2021-12-24T14:50:11.654Z"
   },
   {
    "duration": 37,
    "start_time": "2021-12-24T14:50:12.309Z"
   },
   {
    "duration": 18,
    "start_time": "2021-12-24T14:50:12.348Z"
   },
   {
    "duration": 13,
    "start_time": "2021-12-24T14:50:12.368Z"
   },
   {
    "duration": 107,
    "start_time": "2021-12-24T14:50:12.382Z"
   },
   {
    "duration": 3762,
    "start_time": "2021-12-24T14:50:12.491Z"
   },
   {
    "duration": 12095,
    "start_time": "2021-12-24T14:50:16.255Z"
   },
   {
    "duration": 9,
    "start_time": "2021-12-24T14:50:28.352Z"
   },
   {
    "duration": 21,
    "start_time": "2021-12-24T14:50:28.363Z"
   },
   {
    "duration": 12,
    "start_time": "2021-12-24T14:50:28.386Z"
   },
   {
    "duration": 11,
    "start_time": "2021-12-24T14:50:28.399Z"
   },
   {
    "duration": 39,
    "start_time": "2021-12-24T14:50:28.411Z"
   },
   {
    "duration": 504,
    "start_time": "2021-12-24T14:52:32.601Z"
   },
   {
    "duration": 280,
    "start_time": "2021-12-24T14:53:10.129Z"
   },
   {
    "duration": 21,
    "start_time": "2021-12-24T15:06:31.595Z"
   },
   {
    "duration": 19,
    "start_time": "2021-12-24T15:07:39.802Z"
   },
   {
    "duration": 18,
    "start_time": "2021-12-24T15:10:34.094Z"
   },
   {
    "duration": 19,
    "start_time": "2021-12-24T15:11:15.411Z"
   },
   {
    "duration": 765,
    "start_time": "2021-12-24T15:15:09.369Z"
   },
   {
    "duration": 44,
    "start_time": "2021-12-24T15:15:10.136Z"
   },
   {
    "duration": 22,
    "start_time": "2021-12-24T15:15:10.183Z"
   },
   {
    "duration": 48,
    "start_time": "2021-12-24T15:15:10.207Z"
   },
   {
    "duration": 141,
    "start_time": "2021-12-24T15:15:10.257Z"
   },
   {
    "duration": 3680,
    "start_time": "2021-12-24T15:15:10.400Z"
   },
   {
    "duration": 11069,
    "start_time": "2021-12-24T15:15:14.082Z"
   },
   {
    "duration": 9,
    "start_time": "2021-12-24T15:15:25.153Z"
   },
   {
    "duration": 19,
    "start_time": "2021-12-24T15:15:25.163Z"
   },
   {
    "duration": 12,
    "start_time": "2021-12-24T15:15:25.184Z"
   },
   {
    "duration": 12,
    "start_time": "2021-12-24T15:15:25.198Z"
   },
   {
    "duration": 43,
    "start_time": "2021-12-24T15:15:25.212Z"
   },
   {
    "duration": 11101,
    "start_time": "2021-12-24T15:30:41.693Z"
   },
   {
    "duration": 55,
    "start_time": "2021-12-24T16:09:16.720Z"
   },
   {
    "duration": 896,
    "start_time": "2021-12-24T16:09:32.798Z"
   },
   {
    "duration": 46,
    "start_time": "2021-12-24T16:09:33.696Z"
   },
   {
    "duration": 29,
    "start_time": "2021-12-24T16:09:33.745Z"
   },
   {
    "duration": 16,
    "start_time": "2021-12-24T16:09:33.777Z"
   },
   {
    "duration": 127,
    "start_time": "2021-12-24T16:09:33.794Z"
   },
   {
    "duration": 4237,
    "start_time": "2021-12-24T16:09:33.923Z"
   },
   {
    "duration": 14038,
    "start_time": "2021-12-24T16:09:38.163Z"
   },
   {
    "duration": 11,
    "start_time": "2021-12-24T16:09:52.204Z"
   },
   {
    "duration": 62,
    "start_time": "2021-12-24T16:09:52.217Z"
   },
   {
    "duration": 19,
    "start_time": "2021-12-24T16:09:52.281Z"
   },
   {
    "duration": 28,
    "start_time": "2021-12-24T16:09:52.302Z"
   },
   {
    "duration": 22,
    "start_time": "2021-12-24T16:09:52.332Z"
   },
   {
    "duration": 47,
    "start_time": "2021-12-24T16:11:26.020Z"
   },
   {
    "duration": 660,
    "start_time": "2021-12-25T09:07:26.643Z"
   },
   {
    "duration": 48,
    "start_time": "2021-12-25T09:07:27.305Z"
   },
   {
    "duration": 89,
    "start_time": "2021-12-25T09:11:33.931Z"
   },
   {
    "duration": 39,
    "start_time": "2021-12-25T09:11:34.022Z"
   },
   {
    "duration": 23,
    "start_time": "2021-12-25T09:11:34.063Z"
   },
   {
    "duration": 41,
    "start_time": "2021-12-25T09:11:34.088Z"
   },
   {
    "duration": 13,
    "start_time": "2021-12-25T09:11:42.038Z"
   },
   {
    "duration": 102,
    "start_time": "2021-12-25T09:12:31.925Z"
   },
   {
    "duration": 35,
    "start_time": "2021-12-25T09:12:32.029Z"
   },
   {
    "duration": 18,
    "start_time": "2021-12-25T09:12:32.066Z"
   },
   {
    "duration": 13,
    "start_time": "2021-12-25T09:12:32.085Z"
   },
   {
    "duration": 16,
    "start_time": "2021-12-25T09:12:32.126Z"
   },
   {
    "duration": 98,
    "start_time": "2021-12-25T09:12:32.144Z"
   },
   {
    "duration": 3609,
    "start_time": "2021-12-25T09:12:32.244Z"
   },
   {
    "duration": 9729,
    "start_time": "2021-12-25T09:12:35.855Z"
   },
   {
    "duration": 6,
    "start_time": "2021-12-25T09:12:45.585Z"
   },
   {
    "duration": 18,
    "start_time": "2021-12-25T09:12:45.593Z"
   },
   {
    "duration": 7,
    "start_time": "2021-12-25T09:13:53.531Z"
   }
  ],
  "kernelspec": {
   "display_name": "Python 3 (ipykernel)",
   "language": "python",
   "name": "python3"
  },
  "language_info": {
   "codemirror_mode": {
    "name": "ipython",
    "version": 3
   },
   "file_extension": ".py",
   "mimetype": "text/x-python",
   "name": "python",
   "nbconvert_exporter": "python",
   "pygments_lexer": "ipython3",
   "version": "3.9.5"
  },
  "toc": {
   "base_numbering": 1,
   "nav_menu": {},
   "number_sections": true,
   "sideBar": true,
   "skip_h1_title": true,
   "title_cell": "Table of Contents",
   "title_sidebar": "Contents",
   "toc_cell": false,
   "toc_position": {},
   "toc_section_display": true,
   "toc_window_display": false
  }
 },
 "nbformat": 4,
 "nbformat_minor": 2
}
